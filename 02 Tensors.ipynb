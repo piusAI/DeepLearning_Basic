{
  "nbformat": 4,
  "nbformat_minor": 0,
  "metadata": {
    "colab": {
      "provenance": [],
      "authorship_tag": "ABX9TyNX3wkn14k4qmqKKNx5VCq6",
      "include_colab_link": true
    },
    "kernelspec": {
      "name": "python3",
      "display_name": "Python 3"
    },
    "language_info": {
      "name": "python"
    }
  },
  "cells": [
    {
      "cell_type": "markdown",
      "metadata": {
        "id": "view-in-github",
        "colab_type": "text"
      },
      "source": [
        "<a href=\"https://colab.research.google.com/github/piusAI/DeepLearning_Basic/blob/main/02%20Tensors.ipynb\" target=\"_parent\"><img src=\"https://colab.research.google.com/assets/colab-badge.svg\" alt=\"Open In Colab\"/></a>"
      ]
    },
    {
      "cell_type": "markdown",
      "source": [
        "Tensors\n",
        "- A torch. Tensor is a multi-dimensional Matrix Containing elemets of a single data type.\n",
        "- similar to Numpy Arrays, but full of fun things that make them work better on GPU's (vs regular CPU's)\n",
        "- Defulat Datat type of float 32.\n",
        "- More suitable For deep learning than a numpy array."
      ],
      "metadata": {
        "id": "noRNiANUk-du"
      }
    },
    {
      "cell_type": "code",
      "source": [
        "import torch\n",
        "import numpy as np"
      ],
      "metadata": {
        "id": "_HCUoAZylT5Z"
      },
      "execution_count": 1,
      "outputs": []
    },
    {
      "cell_type": "code",
      "source": [],
      "metadata": {
        "id": "UJyraHKMlVoe"
      },
      "execution_count": null,
      "outputs": []
    }
  ]
}