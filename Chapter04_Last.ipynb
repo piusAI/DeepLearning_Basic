{
  "nbformat": 4,
  "nbformat_minor": 0,
  "metadata": {
    "colab": {
      "provenance": [],
      "gpuType": "T4",
      "authorship_tag": "ABX9TyMlELCYTPCEIPnzYMSad5ka",
      "include_colab_link": true
    },
    "kernelspec": {
      "name": "python3",
      "display_name": "Python 3"
    },
    "language_info": {
      "name": "python"
    },
    "accelerator": "GPU"
  },
  "cells": [
    {
      "cell_type": "markdown",
      "metadata": {
        "id": "view-in-github",
        "colab_type": "text"
      },
      "source": [
        "<a href=\"https://colab.research.google.com/github/piusAI/DeepLearning_Basic/blob/main/Chapter04_Last.ipynb\" target=\"_parent\"><img src=\"https://colab.research.google.com/assets/colab-badge.svg\" alt=\"Open In Colab\"/></a>"
      ]
    },
    {
      "cell_type": "markdown",
      "source": [
        "###Chapter 04"
      ],
      "metadata": {
        "id": "8Iq2c8PgZ-Az"
      }
    },
    {
      "cell_type": "markdown",
      "source": [
        "#### To do this!"
      ],
      "metadata": {
        "id": "7FHdi-wHaBn0"
      }
    },
    {
      "cell_type": "markdown",
      "source": [
        "- 01 Sigmoid, Softmax, CEE\n",
        "- 02 Gradient, Sigmoid_gradient(sigmoid differentiation)\n",
        "- 03 TwoNetwork\n",
        "\n",
        "\n",
        "Avartar **S**tochastic **D**escent **G**radient\n"
      ],
      "metadata": {
        "id": "Rev7h16tWE8a"
      }
    },
    {
      "cell_type": "markdown",
      "source": [
        "#### 01 sigmoid, Softmax, CEE, Gradient\n",
        "02 gradient"
      ],
      "metadata": {
        "id": "7ya0fb5caGrv"
      }
    },
    {
      "cell_type": "code",
      "execution_count": 2,
      "metadata": {
        "id": "Y66V4JYcVpp5"
      },
      "outputs": [],
      "source": [
        "import numpy as np\n",
        "\n",
        "def sigmoid(x):\n",
        "  return 1 / (1+ np.exp(-x))\n",
        "\n",
        "def sigmoid_gradient(x):\n",
        "  return sigmoid(x) * (1 - sigmoid(x) )\n",
        "\n",
        "def softmax(x):\n",
        "  if x.ndim==2:\n",
        "    x= x-np.max(x,axis=1, keepdims=True)\n",
        "    return np.exp(x) / np.sum(np.exp(x),axis=1, keepdims=True)\n",
        "  x = x- np.max(x)\n",
        "  return np.exp(x) / np.sum(np.exp(x))\n",
        "\n",
        "def CEE(y,t):\n",
        "  if y.ndim==1:\n",
        "    y = y.reshape(y.shape[0], 1)\n",
        "    t = t.reshape(t.shape[0], 1)\n",
        "  batch_size = y.shape[0]\n",
        "  return -np.sum(np.log(y[np.arange(batch_size), t]))/ batch_size\n",
        "\n",
        "def _numerical_gradient_no_batch(f,x):\n",
        "  h=1e-4\n",
        "  grad = np.zeros_like(x)\n",
        "\n",
        "  for idx in range(x.size):\n",
        "    tmp_val = x[idx]\n",
        "    x[idx] = float(tmp_val)+h\n",
        "    fxh1 = f(x)\n",
        "\n",
        "    x[idx] = tmp_val - h\n",
        "    fxh2 = f(x)\n",
        "\n",
        "    grad[idx] = (fxh1-fxh2) / ( 2* h)\n",
        "    x[idx] = tmp_val\n",
        "    return grad\n",
        "def numerical_gradient(f,X):\n",
        "  if X.ndim == 1:\n",
        "    return _numerical_gradient_no_batch(f,X)\n",
        "  else:\n",
        "    grad = np.zeros_like(X)\n",
        "    for i, idx in enumerate(X):\n",
        "      grad[i] = _numerical_gradient_no_batch(f,idx)\n",
        "    return grad"
      ]
    },
    {
      "cell_type": "markdown",
      "source": [
        "####03 Two Network"
      ],
      "metadata": {
        "id": "ws-5NykdaNpY"
      }
    },
    {
      "cell_type": "code",
      "source": [
        "class TwolayerNet:\n",
        "  def __init__(self, input_size, hidden_size, output_size, weight_init_std= 0.01):\n",
        "    self.params = {}\n",
        "    self.params['W1'] = weight_init_std * np.random.randn(input_size, hidden_size)\n",
        "    self.params['b1'] = np.zeros(hidden_size)\n",
        "    self.params['W2'] = weight_init_std * np.random.randn(hidden_size, output_size)\n",
        "    self.params['b2'] = np.zeros(output_size)\n",
        "  def predict(self, x):\n",
        "    W1, W2 = self.params['W1'], self.params['W2']\n",
        "    b1, b2 = self.params['b1'], self.params['b2']\n",
        "\n",
        "    a1 = np.dot(x, W1) + b1\n",
        "    y1 = sigmoid(a1)\n",
        "    a2 = np.dot(y1, W2) + b2\n",
        "    y2 = softmax(a2)\n",
        "    return y2\n",
        "  def accuracy(self, x, t):\n",
        "    y = self.predict(x)\n",
        "    y = np.argmax(y, axis=1)\n",
        "\n",
        "    if t.ndim != 1:\n",
        "      t = np.argmax(t, axis=1)\n",
        "\n",
        "    accuracy = np.sum(y == t) / float(x.shape[0])\n",
        "    return accuracy\n",
        "\n",
        "  def loss(self, x, t):\n",
        "    y = self.predict(x)\n",
        "    return CEE(y,t)\n",
        "\n",
        "  def numerical_gradient(self, x, t):\n",
        "    loss_w = lambda w : self.loss(x,t)\n",
        "\n",
        "    grads = {}\n",
        "    grads['W1'] = numerical_gradient(loss_w, self.params['W1'])\n",
        "    grads['b1'] = numerical_gradient(loss_w, self.params['b1'])\n",
        "    grads['W2'] = numerical_gradient(loss_w, self.params['W2'])\n",
        "    grads['b2'] = numerical_gradient(loss_w, self.params['b2'])\n",
        "\n",
        "    return grads\n",
        "\n",
        "#역전파는 그냥 Pass\n",
        "  def gradient(self, x, t):\n",
        "    W1, W2 = self.params['W1'], self.params['W2']\n",
        "    b1, b2 = self.params['b1'], self.params['b2']\n",
        "\n",
        "    grads={}\n",
        "    batch_num = x.shape[0]\n",
        "\n",
        "    a1= np.dot(x,W1) + b1\n",
        "    z1 = sigmoid(a1)\n",
        "    a2 = np.dot(z1, W2) + b2\n",
        "    y = softmax(a2)\n",
        "\n",
        "    if t.ndim ==1:\n",
        "      t_one_hot = np.zeros_like(y)\n",
        "      t_one_hot[np.arange(batch_num), t] = 1\n",
        "      t = t_one_hot\n",
        "    dy = (y-t) /batch_num\n",
        "    grads ['W2'] = np.dot(z1.T, dy)\n",
        "    grads['b2'] = np.sum(dy, axis=0)\n",
        "\n",
        "    dz1 = np.dot(dy, W2.T)\n",
        "    da1 = sigmoid_gradient(a1) * dz1\n",
        "    grads['W1'] = np.dot(x.T, da1)\n",
        "    grads['b1'] = np.sum(da1, axis=0)\n",
        "\n",
        "    return grads"
      ],
      "metadata": {
        "id": "iiMQdaLjacPq"
      },
      "execution_count": 3,
      "outputs": []
    },
    {
      "cell_type": "markdown",
      "source": [
        "##여기서부터 다시"
      ],
      "metadata": {
        "id": "cdlSndmItKeH"
      }
    },
    {
      "cell_type": "code",
      "source": [
        "import numpy as np\n",
        "import matplotlib.pyplot as plt\n",
        "from keras.datasets import mnist\n",
        "\n",
        "(x_train, t_train), (x_test, t_test) = mnist.load_data()\n",
        "\n",
        "x_train = x_train.reshape(-1, 784)\n",
        "x_test = x_test.reshape(-1,784)\n",
        "\n",
        "\n",
        "plt.imshow(x_train[5847].reshape(28,28))"
      ],
      "metadata": {
        "colab": {
          "base_uri": "https://localhost:8080/",
          "height": 484
        },
        "id": "FUi-TU-ue5wJ",
        "outputId": "01647444-0285-42a4-a284-41baeab7d000"
      },
      "execution_count": 4,
      "outputs": [
        {
          "output_type": "stream",
          "name": "stdout",
          "text": [
            "Downloading data from https://storage.googleapis.com/tensorflow/tf-keras-datasets/mnist.npz\n",
            "\u001b[1m11490434/11490434\u001b[0m \u001b[32m━━━━━━━━━━━━━━━━━━━━\u001b[0m\u001b[37m\u001b[0m \u001b[1m0s\u001b[0m 0us/step\n"
          ]
        },
        {
          "output_type": "execute_result",
          "data": {
            "text/plain": [
              "<matplotlib.image.AxesImage at 0x784fec29b790>"
            ]
          },
          "metadata": {},
          "execution_count": 4
        },
        {
          "output_type": "display_data",
          "data": {
            "text/plain": [
              "<Figure size 640x480 with 1 Axes>"
            ],
            "image/png": "[encoded data removed]"
          },
          "metadata": {}
        }
      ]
    },
    {
      "cell_type": "markdown",
      "source": [
        "####Stochastic GD01 - Accuracy"
      ],
      "metadata": {
        "id": "J_Vugeo3jjcT"
      }
    },
    {
      "cell_type": "code",
      "source": [
        "#### Stochastic GD\n",
        "\n",
        "import numpy as np\n",
        "from keras.datasets import mnist\n",
        "\n",
        "(x_train, t_train), (x_test, t_test) = mnist.load_data()\n",
        "\n",
        "### Normalize And Flatten ###\n",
        "x_train = x_train.reshape(-1, 784) / 255.0\n",
        "x_test = x_test.reshape(-1, 784) / 255.0\n",
        "#############################\n",
        "\n",
        "train_acc_list=[]\n",
        "\n",
        "tensor_size = x_train.shape[0]\n",
        "learning_rate=1.0\n",
        "iteration = 10000\n",
        "batch_size = 100\n",
        "network = TwolayerNet(input_size = 784, hidden_size = 50, output_size=10)\n",
        "\n",
        "for i in range(iteration) :\n",
        "  batch_mask = np.random.choice(tensor_size ,batch_size)\n",
        "  x_batch = x_train[batch_mask]\n",
        "  t_batch = t_train[batch_mask]\n",
        "\n",
        "  grad = network.gradient(x_batch, t_batch)\n",
        "  for key in ('W1', 'b1', 'W2', 'b2'):\n",
        "    network.params[key] -= learning_rate * grad[key]\n",
        "\n",
        "  loss = network.loss(x_batch, t_batch)\n",
        "  accuracy = network.accuracy(x_batch, t_batch)\n",
        "  train_acc_list.append(accuracy)\n",
        "# print(train_acc_list)\n"
      ],
      "metadata": {
        "id": "7GOconE2gRoj"
      },
      "execution_count": 5,
      "outputs": []
    },
    {
      "cell_type": "code",
      "source": [
        "print(\"Last Accuracy :\", np.mean(train_acc_list))"
      ],
      "metadata": {
        "colab": {
          "base_uri": "https://localhost:8080/"
        },
        "id": "Q8ayIw7YiyTH",
        "outputId": "1d9977a7-2d5c-43d4-a906-3cd3104f0d0d"
      },
      "execution_count": 6,
      "outputs": [
        {
          "output_type": "stream",
          "name": "stdout",
          "text": [
            "Last Accuracy : 0.981894\n"
          ]
        }
      ]
    },
    {
      "cell_type": "markdown",
      "source": [
        "#### Stochastic GD02 - Draw Accuracy Matplotlib !!"
      ],
      "metadata": {
        "id": "pVWLr7q7kcqK"
      }
    },
    {
      "cell_type": "code",
      "source": [
        "import numpy as np\n",
        "from keras.datasets import mnist\n",
        "\n",
        "(x_train, t_train), (x_test, t_test) = mnist.load_data()\n",
        "\n",
        "x_train = x_train.reshape(-1, 784) / 255.0\n",
        "x_test = x_test.reshape(-1, 784) / 255.0\n",
        "\n",
        "train_loss_list=[]\n",
        "train_acc_list=[]\n",
        "test_acc_list=[]\n",
        "\n",
        "learning_rate=1.0\n",
        "iteration = 10000\n",
        "train_size = x_train.shape[0]\n",
        "batch_size = 100\n",
        "iter_per_epoch = max ( train_size / batch_size, 1)\n",
        "\n",
        "network =TwolayerNet(input_size = 784, hidden_size= 50, output_size=10)\n",
        "\n",
        "for i in range(iteration):\n",
        "  batch_mask = np.random.choice(train_size, batch_size)\n",
        "  x_batch = x_train[batch_mask]\n",
        "  t_batch = t_train[batch_mask]\n",
        "  grad = network.gradient(x_batch, t_batch)\n",
        "\n",
        "  for key in ['W1', 'b1', 'W2', 'b2']:\n",
        "    network.params[key] -= learning_rate * grad[key]\n",
        "\n",
        "  loss = network.loss(x_batch, t_batch)\n",
        "  train_loss_list.append(loss)\n",
        "######GO\n",
        "  if i % iter_per_epoch ==0:\n",
        "    train_acc = network.accuracy(x_train, t_train)\n",
        "    test_acc = network.accuracy(x_test, t_test)\n",
        "\n",
        "    train_acc_list.append(train_acc)\n",
        "    test_acc_list.append(test_acc)\n",
        "    print('train acc, test acc | ', train_acc, ',', test_acc)\n",
        "\n",
        "markers ={'train':'o','test' : 's'}\n",
        "x=np.arange(len(train_acc_list))\n",
        "plt.plot(x, train_acc_list, label ='train acc')\n",
        "plt.plot(x, test_acc_list, label = 'test acc', linestyle='--')\n",
        "\n",
        "plt.xlabel('ephocs')\n",
        "plt.ylabel('accuracy')\n",
        "\n",
        "plt.ylim(0, 1.0)\n",
        "plt.legend(loc='lower right')\n",
        "plt.show()"
      ],
      "metadata": {
        "colab": {
          "base_uri": "https://localhost:8080/",
          "height": 760
        },
        "id": "Yqb06NDNjpwZ",
        "outputId": "4f49a18c-3ab5-423d-b8d5-22421e5d2ff6"
      },
      "execution_count": 7,
      "outputs": [
        {
          "output_type": "stream",
          "name": "stdout",
          "text": [
            "train acc, test acc |  0.10218333333333333 , 0.101\n",
            "train acc, test acc |  0.9208666666666666 , 0.9188\n",
            "train acc, test acc |  0.9486 , 0.9451\n",
            "train acc, test acc |  0.9593 , 0.9562\n",
            "train acc, test acc |  0.9643 , 0.9595\n",
            "train acc, test acc |  0.9698833333333333 , 0.9624\n",
            "train acc, test acc |  0.9741833333333333 , 0.9651\n",
            "train acc, test acc |  0.9761 , 0.9668\n",
            "train acc, test acc |  0.97805 , 0.9667\n",
            "train acc, test acc |  0.97985 , 0.9708\n",
            "train acc, test acc |  0.9812333333333333 , 0.9698\n",
            "train acc, test acc |  0.9840666666666666 , 0.9711\n",
            "train acc, test acc |  0.9816833333333334 , 0.9717\n",
            "train acc, test acc |  0.9851833333333333 , 0.9718\n",
            "train acc, test acc |  0.9863333333333333 , 0.9724\n",
            "train acc, test acc |  0.9881833333333333 , 0.9714\n",
            "train acc, test acc |  0.9881 , 0.9721\n"
          ]
        },
        {
          "output_type": "display_data",
          "data": {
            "text/plain": [
              "<Figure size 640x480 with 1 Axes>"
            ],
            "image/png": "[encoded data removed]"
          },
          "metadata": {}
        }
      ]
    },
    {
      "cell_type": "markdown",
      "source": [
        "- DL의 학습은 Backpropagation // Numerical Gradient를 하기떄문에 느리지만,\n",
        "\n",
        "- DL의 측정은 Predict -> argmax -> Compare로 측정하기 떄문에 매우 빠르게 측정\n",
        "\n",
        "\n",
        "| 항목         | 학습 (Training)                               | 측정 (Evaluation)                       |\n",
        "| ---------- | ------------------------------------------- | ------------------------------------- |\n",
        "| 목적         | 모델을 업데이트하기 위한 가중치 학습                        | 모델이 얼마나 잘 맞추는지 성능 평가                  |\n",
        "| 주로 사용하는 함수 | `loss()`, `gradient()`, `backpropagation()` | `predict()`, `argmax()`, `accuracy()` |\n",
        "| 연산 방식      | 수치미분 / 역전파 (Backpropagation)                | 순전파만 (Forward only)                   |\n",
        "| 연산량        | 매우 높음 (특히 `numerical_gradient`)             | 매우 낮음 (단순 계산)                         |\n",
        "| 속도         | 느림                                          | 빠름                                    |\n",
        "| 데이터 사용 방식  | 미니배치 (Mini-batch, 표본 추출)                    | 전체 데이터 사용 (Train 전체 / Test 전체)        |\n",
        "| 샘플링 여부     | ✅ Yes (Stochastic Gradient Descent)         | ❌ No (모든 샘플로 정확히 측정)                  |\n",
        "| 측정 빈도      | 보통 여러 번 (`epoch`마다 한 번씩)                    | 주기적으로 측정 (e.g., 1 epoch 단위)           |\n",
        "| 출력 결과 예시   | 손실 값 (`loss`)                               | 정확도 (`accuracy`)                      |\n"
      ],
      "metadata": {
        "id": "n6RAAYnBoZfg"
      }
    },
    {
      "cell_type": "code",
      "source": [
        "import numpy as np\n",
        "import matplotlib.pyplot as plt\n",
        "\n",
        "from keras.datasets import mnist\n",
        "(x_train, t_train), (x_test, t_test) = mnist.load_data()\n",
        "\n",
        "## normalize and flatten!\n",
        "x_train = x_train.reshape(-1, 784) / 255.0\n",
        "x_test = x_test.reshape(-1, 784) / 255.0\n",
        "##############################\n",
        "\n",
        "\n",
        "train_loss_list = []\n",
        "train_accuracy_list =[]\n",
        "test_accuracy_list = []\n",
        "\n",
        "iteration = 10000\n",
        "batch_size = 100\n",
        "learning_rate = 1.0\n",
        "\n",
        "train_size = x_train.shape[0]\n",
        "\n",
        "iteration_per_epoch = max( train_size / batch_size, 1)\n",
        "network = TwolayerNet(input_size = 784, hidden_size = 50, output_size = 10)\n",
        "\n",
        "for i in range(iteration):\n",
        "  batch_mask = np.random.choice(train_size, batch_size)\n",
        "  x_batch = x_train[batch_mask]\n",
        "  t_batch = t_train[batch_mask]\n",
        "  grad = network.gradient(x_batch, t_batch)\n",
        "\n",
        "  for key in ['W1', 'b1', 'W2', 'b2']:\n",
        "    network.params[key] -= learning_rate * grad[key]\n",
        "\n",
        "  loss = network.loss(x_batch, t_batch)\n",
        "  train_loss_list.append(loss)\n",
        "\n",
        "  if i % iteration_per_epoch ==0:\n",
        "    test_accuracy = network.accuracy(x_test,t_test)\n",
        "    train_accuracy = network.accuracy(x_train,t_train)\n",
        "\n",
        "    test_accuracy_list.append(test_accuracy)\n",
        "    train_accuracy_list.append(train_accuracy)\n",
        "    print('train_accuracy, test_accuracy | ', train_accuracy, ',', test_accuracy)\n",
        "\n",
        "x=np.arange(len(train_accuracy_list))\n",
        "\n",
        "plt.plot(x, train_accuracy_list, label='train acc')\n",
        "plt.plot(x, test_accuracy_list, label ='test acc', linestyle='--')\n",
        "\n",
        "plt.xlabel('ephocs')\n",
        "plt.ylabel('accuracy')\n",
        "plt.show()\n"
      ],
      "metadata": {
        "colab": {
          "base_uri": "https://localhost:8080/",
          "height": 754
        },
        "id": "JhaJEmIdtbVk",
        "outputId": "7bf80246-52a8-4916-9c78-147fc4a3183c"
      },
      "execution_count": 8,
      "outputs": [
        {
          "output_type": "stream",
          "name": "stdout",
          "text": [
            "train_accuracy, test_accuracy |  0.0993 , 0.1032\n",
            "train_accuracy, test_accuracy |  0.9298833333333333 , 0.9316\n",
            "train_accuracy, test_accuracy |  0.948 , 0.9459\n",
            "train_accuracy, test_accuracy |  0.9581666666666667 , 0.9538\n",
            "train_accuracy, test_accuracy |  0.9660333333333333 , 0.961\n",
            "train_accuracy, test_accuracy |  0.9687166666666667 , 0.9606\n",
            "train_accuracy, test_accuracy |  0.9738166666666667 , 0.9652\n",
            "train_accuracy, test_accuracy |  0.9769166666666667 , 0.9667\n",
            "train_accuracy, test_accuracy |  0.9765 , 0.9669\n",
            "train_accuracy, test_accuracy |  0.9807 , 0.9705\n",
            "train_accuracy, test_accuracy |  0.98155 , 0.9698\n",
            "train_accuracy, test_accuracy |  0.98435 , 0.971\n",
            "train_accuracy, test_accuracy |  0.9850333333333333 , 0.9718\n",
            "train_accuracy, test_accuracy |  0.9854833333333334 , 0.9724\n",
            "train_accuracy, test_accuracy |  0.9868 , 0.9707\n",
            "train_accuracy, test_accuracy |  0.98795 , 0.9737\n",
            "train_accuracy, test_accuracy |  0.9899166666666667 , 0.974\n"
          ]
        },
        {
          "output_type": "display_data",
          "data": {
            "text/plain": [
              "<Figure size 640x480 with 1 Axes>"
            ],
            "image/png": "[encoded data removed]"
          },
          "metadata": {}
        }
      ]
    },
    {
      "cell_type": "markdown",
      "source": [
        "#### Stochastic GD03 - Draw Loss Matplotlib !!"
      ],
      "metadata": {
        "id": "jhGR6lC06rs6"
      }
    },
    {
      "cell_type": "code",
      "source": [
        "import numpy as np\n",
        "import matplotlib.pyplot as plt\n",
        "\n",
        "from keras.datasets import mnist\n",
        "(x_test, t_test), (x_train, t_train) = mnist.load_data()\n",
        "\n",
        "## normalize, flatten ##\n",
        "x_test = x_test.reshape(-1, 784) / 255.0\n",
        "x_train = x_train.reshape(-1, 784) / 255.0\n",
        "# ------------------------------------------------ #\n",
        "\n",
        "learning_rate = 1.0\n",
        "train_size = x_train.shape[0]\n",
        "batch_size = 100\n",
        "iteration = 10000\n",
        "\n",
        "train_loss_list =[]\n",
        "test_loss_list =[]\n",
        "\n",
        "iter_per_epoch = max( train_size / batch_size, 1 )\n",
        "\n",
        "network = TwolayerNet(input_size = 784, hidden_size = 50, output_size=10)\n",
        "\n",
        "for i in range(iteration):\n",
        "  batch_mask = np.random.choice(train_size, batch_size)\n",
        "  x_batch = x_train[batch_mask]\n",
        "  t_batch = t_train[batch_mask]\n",
        "\n",
        "  grad = network.gradient(x_batch, t_batch)\n",
        "\n",
        "  for key in ['W1','b1','W2','b2']:\n",
        "    network.params[key] -= learning_rate * grad[key]\n",
        "  train_loss = network.loss(x_batch, t_batch)\n",
        "  train_loss_list.append(train_loss)\n",
        "  if i % iter_per_epoch == 0:\n",
        "    loss_test = network.loss(x_test, t_test)\n",
        "    test_loss_list.append(loss_test)\n",
        "    print(\"test_loss, train_loss | \", loss_test,\", \",train_loss)\n",
        "\n",
        "x=np.arange(len(test_loss_list))\n",
        "plt.plot(x, test_loss_list, label='test loss', color=\"#970612\")\n",
        "plt.plot(x,train_loss_list, label='train loss', linestyle='--')\n",
        "\n",
        "plt.xlabel('epoch')\n",
        "plt.ylabel('loss')\n",
        "\n",
        "plt.ylim(0,1.0)\n",
        "plt.legend(loc = 'lower right')\n",
        "plt.show()\n",
        "\n",
        "\n"
      ],
      "metadata": {
        "id": "n6sWtMvl6vdr",
        "outputId": "71e172cd-00e7-44ba-c65a-e073e04cba06",
        "colab": {
          "base_uri": "https://localhost:8080/",
          "height": 1000
        }
      },
      "execution_count": 20,
      "outputs": [
        {
          "output_type": "stream",
          "name": "stdout",
          "text": [
            "test_loss, train_loss |  2.367105247723847 ,  2.2583999002822917\n",
            "test_loss, train_loss |  0.5862337107822714 ,  0.5051984530036858\n",
            "test_loss, train_loss |  0.3968232444573236 ,  0.2939214288173349\n",
            "test_loss, train_loss |  0.35276700492527335 ,  0.1876744864434402\n",
            "test_loss, train_loss |  0.31229837326319415 ,  0.12712466871329853\n",
            "test_loss, train_loss |  0.2988880307210844 ,  0.12087510451972831\n",
            "test_loss, train_loss |  0.2833158575927909 ,  0.1505800319137965\n",
            "test_loss, train_loss |  0.2797396732535488 ,  0.0713777104762726\n",
            "test_loss, train_loss |  0.257945800410411 ,  0.08516734983342916\n",
            "test_loss, train_loss |  0.24522665280307707 ,  0.1504067769462641\n",
            "test_loss, train_loss |  0.24953413065872085 ,  0.09465181194918762\n",
            "test_loss, train_loss |  0.2445872055553504 ,  0.05552263702271469\n",
            "test_loss, train_loss |  0.23577433229578706 ,  0.06364831930916529\n",
            "test_loss, train_loss |  0.22941259035376602 ,  0.09379269299871287\n",
            "test_loss, train_loss |  0.23257014151865704 ,  0.10056414928035805\n",
            "test_loss, train_loss |  0.22263837854708102 ,  0.07119040380855704\n",
            "test_loss, train_loss |  0.22671665118953152 ,  0.031808116484935874\n",
            "test_loss, train_loss |  0.22251688986487342 ,  0.05671852136905735\n",
            "test_loss, train_loss |  0.21964171688753853 ,  0.025753420722275582\n",
            "test_loss, train_loss |  0.2148659648702299 ,  0.023048574041159273\n",
            "test_loss, train_loss |  0.21670109722231848 ,  0.05564378281759279\n",
            "test_loss, train_loss |  0.21969072104601803 ,  0.04287257537794256\n",
            "test_loss, train_loss |  0.2109208921808271 ,  0.026124852684864343\n",
            "test_loss, train_loss |  0.21614751681082697 ,  0.05346481018473937\n",
            "test_loss, train_loss |  0.22190397720923974 ,  0.028525348951612708\n",
            "test_loss, train_loss |  0.21713369352676506 ,  0.0273549649340996\n",
            "test_loss, train_loss |  0.21352728093748014 ,  0.032442526071419626\n",
            "test_loss, train_loss |  0.20939151313914434 ,  0.021225201961726364\n",
            "test_loss, train_loss |  0.21121440476841435 ,  0.03619593860493215\n",
            "test_loss, train_loss |  0.20974590539246415 ,  0.030404575575898277\n",
            "test_loss, train_loss |  0.210145633829732 ,  0.020129793935755216\n",
            "test_loss, train_loss |  0.21196250955875018 ,  0.021623074180386555\n",
            "test_loss, train_loss |  0.21135630553229745 ,  0.018396390097318673\n",
            "test_loss, train_loss |  0.21371978889704163 ,  0.015052378173764284\n",
            "test_loss, train_loss |  0.21018405870257015 ,  0.02473689249956029\n",
            "test_loss, train_loss |  0.2154120551164503 ,  0.022378961855983058\n",
            "test_loss, train_loss |  0.21477105199136962 ,  0.016122751792306336\n",
            "test_loss, train_loss |  0.21260904210799067 ,  0.025253559312844752\n",
            "test_loss, train_loss |  0.2107622206473862 ,  0.02711897338495641\n",
            "test_loss, train_loss |  0.21302083393833224 ,  0.01581494295925882\n",
            "test_loss, train_loss |  0.21613865239810964 ,  0.009737419125107801\n",
            "test_loss, train_loss |  0.21302093054830487 ,  0.009003154001092618\n",
            "test_loss, train_loss |  0.212616038216829 ,  0.016142475073943216\n",
            "test_loss, train_loss |  0.21292688714587896 ,  0.009931712752521906\n",
            "test_loss, train_loss |  0.21414555408830202 ,  0.012332472382494518\n",
            "test_loss, train_loss |  0.21396958322579088 ,  0.012479825492853352\n",
            "test_loss, train_loss |  0.21963348946901592 ,  0.011523914718610464\n",
            "test_loss, train_loss |  0.21772465932991494 ,  0.010781886589865652\n",
            "test_loss, train_loss |  0.21584091517825774 ,  0.008559325464576724\n",
            "test_loss, train_loss |  0.21579353871734422 ,  0.014683963847455348\n",
            "test_loss, train_loss |  0.21982426791023835 ,  0.008814153374162187\n",
            "test_loss, train_loss |  0.2159508775245492 ,  0.007607375179994975\n",
            "test_loss, train_loss |  0.21665754734066064 ,  0.008539215834438231\n",
            "test_loss, train_loss |  0.2179401492619326 ,  0.007254706306732881\n",
            "test_loss, train_loss |  0.22002045797846406 ,  0.005595168826525664\n",
            "test_loss, train_loss |  0.22334918989605512 ,  0.011587251223469385\n",
            "test_loss, train_loss |  0.2209003488795269 ,  0.006874667364914544\n",
            "test_loss, train_loss |  0.2209282726783635 ,  0.004694275823808144\n",
            "test_loss, train_loss |  0.2185450787894798 ,  0.008675025397855154\n",
            "test_loss, train_loss |  0.21948288402683766 ,  0.005954724494430276\n",
            "test_loss, train_loss |  0.22096901597312255 ,  0.006721877821922747\n",
            "test_loss, train_loss |  0.22048458803802778 ,  0.007225662376112133\n",
            "test_loss, train_loss |  0.22403474963479808 ,  0.005400465116961193\n",
            "test_loss, train_loss |  0.2232457766886469 ,  0.006879974438456896\n",
            "test_loss, train_loss |  0.2216530271036807 ,  0.006459697595657622\n",
            "test_loss, train_loss |  0.22385820100807904 ,  0.005738884116482021\n",
            "test_loss, train_loss |  0.2229015737701629 ,  0.006289718512249498\n",
            "test_loss, train_loss |  0.22432322852285638 ,  0.006508642463921496\n",
            "test_loss, train_loss |  0.22498330640582836 ,  0.0070424560171021364\n",
            "test_loss, train_loss |  0.22469014863429024 ,  0.007724862192748772\n",
            "test_loss, train_loss |  0.2240234173708666 ,  0.006379163655775966\n",
            "test_loss, train_loss |  0.2241821723423855 ,  0.007071274374974307\n",
            "test_loss, train_loss |  0.22380519676235475 ,  0.006262201248485958\n",
            "test_loss, train_loss |  0.225310961368017 ,  0.0029757450529235142\n",
            "test_loss, train_loss |  0.2248326762410313 ,  0.00601978589554306\n",
            "test_loss, train_loss |  0.2250909712788304 ,  0.008972272830807922\n",
            "test_loss, train_loss |  0.22583880360333788 ,  0.004308933708616523\n",
            "test_loss, train_loss |  0.22651476656569772 ,  0.004531909639343931\n",
            "test_loss, train_loss |  0.22714245833524163 ,  0.006940336904436184\n",
            "test_loss, train_loss |  0.2286189398306021 ,  0.005264339703263407\n",
            "test_loss, train_loss |  0.22894050739683863 ,  0.003164532932709992\n",
            "test_loss, train_loss |  0.22864499320806864 ,  0.005787457205619029\n",
            "test_loss, train_loss |  0.228472458624692 ,  0.005228644070764132\n",
            "test_loss, train_loss |  0.22773437766404578 ,  0.005422950542598728\n",
            "test_loss, train_loss |  0.228644438216428 ,  0.004538639060597068\n",
            "test_loss, train_loss |  0.22862005244579714 ,  0.005875995059462421\n",
            "test_loss, train_loss |  0.23080352534607393 ,  0.005120999851741221\n",
            "test_loss, train_loss |  0.2300628258891113 ,  0.005029494388823044\n",
            "test_loss, train_loss |  0.23019947012245462 ,  0.0031202531206943195\n",
            "test_loss, train_loss |  0.23166061373084137 ,  0.004174127302683173\n",
            "test_loss, train_loss |  0.231773266103766 ,  0.004881812616143569\n",
            "test_loss, train_loss |  0.2313769761993527 ,  0.0038494709590743614\n",
            "test_loss, train_loss |  0.23118179888820325 ,  0.0036996113210368098\n",
            "test_loss, train_loss |  0.23228020417899065 ,  0.004826981199305941\n",
            "test_loss, train_loss |  0.23230438133408715 ,  0.004974726978902386\n",
            "test_loss, train_loss |  0.23296441617663433 ,  0.0025030143021335977\n",
            "test_loss, train_loss |  0.2332784396080935 ,  0.004933040135422103\n",
            "test_loss, train_loss |  0.2336262185888879 ,  0.006212659652521411\n",
            "test_loss, train_loss |  0.23288188602184665 ,  0.0038638499956721003\n",
            "test_loss, train_loss |  0.23370110272910868 ,  0.002672998078303046\n"
          ]
        },
        {
          "output_type": "error",
          "ename": "ValueError",
          "evalue": "x and y must have same first dimension, but have shapes (100,) and (10000,)",
          "traceback": [
            "\u001b[0;31m---------------------------------------------------------------------------\u001b[0m",
            "\u001b[0;31mValueError\u001b[0m                                Traceback (most recent call last)",
            "\u001b[0;32m<ipython-input-20-c3571ddf30e8>\u001b[0m in \u001b[0;36m<cell line: 0>\u001b[0;34m()\u001b[0m\n\u001b[1;32m     40\u001b[0m \u001b[0mx\u001b[0m\u001b[0;34m=\u001b[0m\u001b[0mnp\u001b[0m\u001b[0;34m.\u001b[0m\u001b[0marange\u001b[0m\u001b[0;34m(\u001b[0m\u001b[0mlen\u001b[0m\u001b[0;34m(\u001b[0m\u001b[0mtest_loss_list\u001b[0m\u001b[0;34m)\u001b[0m\u001b[0;34m)\u001b[0m\u001b[0;34m\u001b[0m\u001b[0;34m\u001b[0m\u001b[0m\n\u001b[1;32m     41\u001b[0m \u001b[0mplt\u001b[0m\u001b[0;34m.\u001b[0m\u001b[0mplot\u001b[0m\u001b[0;34m(\u001b[0m\u001b[0mx\u001b[0m\u001b[0;34m,\u001b[0m \u001b[0mtest_loss_list\u001b[0m\u001b[0;34m,\u001b[0m \u001b[0mlabel\u001b[0m\u001b[0;34m=\u001b[0m\u001b[0;34m'test loss'\u001b[0m\u001b[0;34m,\u001b[0m \u001b[0mcolor\u001b[0m\u001b[0;34m=\u001b[0m\u001b[0;34m\"#970612\"\u001b[0m\u001b[0;34m)\u001b[0m\u001b[0;34m\u001b[0m\u001b[0;34m\u001b[0m\u001b[0m\n\u001b[0;32m---> 42\u001b[0;31m \u001b[0mplt\u001b[0m\u001b[0;34m.\u001b[0m\u001b[0mplot\u001b[0m\u001b[0;34m(\u001b[0m\u001b[0mx\u001b[0m\u001b[0;34m,\u001b[0m\u001b[0mtrain_loss_list\u001b[0m\u001b[0;34m,\u001b[0m \u001b[0mlabel\u001b[0m\u001b[0;34m=\u001b[0m\u001b[0;34m'train loss'\u001b[0m\u001b[0;34m,\u001b[0m \u001b[0mlinestyle\u001b[0m\u001b[0;34m=\u001b[0m\u001b[0;34m'--'\u001b[0m\u001b[0;34m)\u001b[0m\u001b[0;34m\u001b[0m\u001b[0;34m\u001b[0m\u001b[0m\n\u001b[0m\u001b[1;32m     43\u001b[0m \u001b[0;34m\u001b[0m\u001b[0m\n\u001b[1;32m     44\u001b[0m \u001b[0mplt\u001b[0m\u001b[0;34m.\u001b[0m\u001b[0mxlabel\u001b[0m\u001b[0;34m(\u001b[0m\u001b[0;34m'epoch'\u001b[0m\u001b[0;34m)\u001b[0m\u001b[0;34m\u001b[0m\u001b[0;34m\u001b[0m\u001b[0m\n",
            "\u001b[0;32m/usr/local/lib/python3.11/dist-packages/matplotlib/pyplot.py\u001b[0m in \u001b[0;36mplot\u001b[0;34m(scalex, scaley, data, *args, **kwargs)\u001b[0m\n\u001b[1;32m   3827\u001b[0m     \u001b[0;34m**\u001b[0m\u001b[0mkwargs\u001b[0m\u001b[0;34m,\u001b[0m\u001b[0;34m\u001b[0m\u001b[0;34m\u001b[0m\u001b[0m\n\u001b[1;32m   3828\u001b[0m ) -> list[Line2D]:\n\u001b[0;32m-> 3829\u001b[0;31m     return gca().plot(\n\u001b[0m\u001b[1;32m   3830\u001b[0m         \u001b[0;34m*\u001b[0m\u001b[0margs\u001b[0m\u001b[0;34m,\u001b[0m\u001b[0;34m\u001b[0m\u001b[0;34m\u001b[0m\u001b[0m\n\u001b[1;32m   3831\u001b[0m         \u001b[0mscalex\u001b[0m\u001b[0;34m=\u001b[0m\u001b[0mscalex\u001b[0m\u001b[0;34m,\u001b[0m\u001b[0;34m\u001b[0m\u001b[0;34m\u001b[0m\u001b[0m\n",
            "\u001b[0;32m/usr/local/lib/python3.11/dist-packages/matplotlib/axes/_axes.py\u001b[0m in \u001b[0;36mplot\u001b[0;34m(self, scalex, scaley, data, *args, **kwargs)\u001b[0m\n\u001b[1;32m   1775\u001b[0m         \"\"\"\n\u001b[1;32m   1776\u001b[0m         \u001b[0mkwargs\u001b[0m \u001b[0;34m=\u001b[0m \u001b[0mcbook\u001b[0m\u001b[0;34m.\u001b[0m\u001b[0mnormalize_kwargs\u001b[0m\u001b[0;34m(\u001b[0m\u001b[0mkwargs\u001b[0m\u001b[0;34m,\u001b[0m \u001b[0mmlines\u001b[0m\u001b[0;34m.\u001b[0m\u001b[0mLine2D\u001b[0m\u001b[0;34m)\u001b[0m\u001b[0;34m\u001b[0m\u001b[0;34m\u001b[0m\u001b[0m\n\u001b[0;32m-> 1777\u001b[0;31m         \u001b[0mlines\u001b[0m \u001b[0;34m=\u001b[0m \u001b[0;34m[\u001b[0m\u001b[0;34m*\u001b[0m\u001b[0mself\u001b[0m\u001b[0;34m.\u001b[0m\u001b[0m_get_lines\u001b[0m\u001b[0;34m(\u001b[0m\u001b[0mself\u001b[0m\u001b[0;34m,\u001b[0m \u001b[0;34m*\u001b[0m\u001b[0margs\u001b[0m\u001b[0;34m,\u001b[0m \u001b[0mdata\u001b[0m\u001b[0;34m=\u001b[0m\u001b[0mdata\u001b[0m\u001b[0;34m,\u001b[0m \u001b[0;34m**\u001b[0m\u001b[0mkwargs\u001b[0m\u001b[0;34m)\u001b[0m\u001b[0;34m]\u001b[0m\u001b[0;34m\u001b[0m\u001b[0;34m\u001b[0m\u001b[0m\n\u001b[0m\u001b[1;32m   1778\u001b[0m         \u001b[0;32mfor\u001b[0m \u001b[0mline\u001b[0m \u001b[0;32min\u001b[0m \u001b[0mlines\u001b[0m\u001b[0;34m:\u001b[0m\u001b[0;34m\u001b[0m\u001b[0;34m\u001b[0m\u001b[0m\n\u001b[1;32m   1779\u001b[0m             \u001b[0mself\u001b[0m\u001b[0;34m.\u001b[0m\u001b[0madd_line\u001b[0m\u001b[0;34m(\u001b[0m\u001b[0mline\u001b[0m\u001b[0;34m)\u001b[0m\u001b[0;34m\u001b[0m\u001b[0;34m\u001b[0m\u001b[0m\n",
            "\u001b[0;32m/usr/local/lib/python3.11/dist-packages/matplotlib/axes/_base.py\u001b[0m in \u001b[0;36m__call__\u001b[0;34m(self, axes, data, return_kwargs, *args, **kwargs)\u001b[0m\n\u001b[1;32m    295\u001b[0m                 \u001b[0mthis\u001b[0m \u001b[0;34m+=\u001b[0m \u001b[0margs\u001b[0m\u001b[0;34m[\u001b[0m\u001b[0;36m0\u001b[0m\u001b[0;34m]\u001b[0m\u001b[0;34m,\u001b[0m\u001b[0;34m\u001b[0m\u001b[0;34m\u001b[0m\u001b[0m\n\u001b[1;32m    296\u001b[0m                 \u001b[0margs\u001b[0m \u001b[0;34m=\u001b[0m \u001b[0margs\u001b[0m\u001b[0;34m[\u001b[0m\u001b[0;36m1\u001b[0m\u001b[0;34m:\u001b[0m\u001b[0;34m]\u001b[0m\u001b[0;34m\u001b[0m\u001b[0;34m\u001b[0m\u001b[0m\n\u001b[0;32m--> 297\u001b[0;31m             yield from self._plot_args(\n\u001b[0m\u001b[1;32m    298\u001b[0m                 \u001b[0maxes\u001b[0m\u001b[0;34m,\u001b[0m \u001b[0mthis\u001b[0m\u001b[0;34m,\u001b[0m \u001b[0mkwargs\u001b[0m\u001b[0;34m,\u001b[0m \u001b[0mambiguous_fmt_datakey\u001b[0m\u001b[0;34m=\u001b[0m\u001b[0mambiguous_fmt_datakey\u001b[0m\u001b[0;34m,\u001b[0m\u001b[0;34m\u001b[0m\u001b[0;34m\u001b[0m\u001b[0m\n\u001b[1;32m    299\u001b[0m                 \u001b[0mreturn_kwargs\u001b[0m\u001b[0;34m=\u001b[0m\u001b[0mreturn_kwargs\u001b[0m\u001b[0;34m\u001b[0m\u001b[0;34m\u001b[0m\u001b[0m\n",
            "\u001b[0;32m/usr/local/lib/python3.11/dist-packages/matplotlib/axes/_base.py\u001b[0m in \u001b[0;36m_plot_args\u001b[0;34m(self, axes, tup, kwargs, return_kwargs, ambiguous_fmt_datakey)\u001b[0m\n\u001b[1;32m    492\u001b[0m \u001b[0;34m\u001b[0m\u001b[0m\n\u001b[1;32m    493\u001b[0m         \u001b[0;32mif\u001b[0m \u001b[0mx\u001b[0m\u001b[0;34m.\u001b[0m\u001b[0mshape\u001b[0m\u001b[0;34m[\u001b[0m\u001b[0;36m0\u001b[0m\u001b[0;34m]\u001b[0m \u001b[0;34m!=\u001b[0m \u001b[0my\u001b[0m\u001b[0;34m.\u001b[0m\u001b[0mshape\u001b[0m\u001b[0;34m[\u001b[0m\u001b[0;36m0\u001b[0m\u001b[0;34m]\u001b[0m\u001b[0;34m:\u001b[0m\u001b[0;34m\u001b[0m\u001b[0;34m\u001b[0m\u001b[0m\n\u001b[0;32m--> 494\u001b[0;31m             raise ValueError(f\"x and y must have same first dimension, but \"\n\u001b[0m\u001b[1;32m    495\u001b[0m                              f\"have shapes {x.shape} and {y.shape}\")\n\u001b[1;32m    496\u001b[0m         \u001b[0;32mif\u001b[0m \u001b[0mx\u001b[0m\u001b[0;34m.\u001b[0m\u001b[0mndim\u001b[0m \u001b[0;34m>\u001b[0m \u001b[0;36m2\u001b[0m \u001b[0;32mor\u001b[0m \u001b[0my\u001b[0m\u001b[0;34m.\u001b[0m\u001b[0mndim\u001b[0m \u001b[0;34m>\u001b[0m \u001b[0;36m2\u001b[0m\u001b[0;34m:\u001b[0m\u001b[0;34m\u001b[0m\u001b[0;34m\u001b[0m\u001b[0m\n",
            "\u001b[0;31mValueError\u001b[0m: x and y must have same first dimension, but have shapes (100,) and (10000,)"
          ]
        },
        {
          "output_type": "display_data",
          "data": {
            "text/plain": [
              "<Figure size 640x480 with 1 Axes>"
            ],
            "image/png": "[encoded data removed]"
          },
          "metadata": {}
        }
      ]
    },
    {
      "cell_type": "markdown",
      "source": [
        "#### Load Mnist data"
      ],
      "metadata": {
        "id": "GNobQy--ouvP"
      }
    },
    {
      "cell_type": "code",
      "source": [
        "import numpy as np\n",
        "import matplotlib.pyplot as plt\n",
        "from keras.datasets import mnist\n",
        "\n",
        "(x_train, t_train), (x_test, t_test) = mnist.load_data()\n",
        "\n",
        "x_train = x_train.reshape(-1,784)\n",
        "x_test = x_train.reshape(-1, 784)\n",
        "\n",
        "plt.imshow(x_train[2].reshape(28,28))"
      ],
      "metadata": {
        "id": "xCBO8AMDyqoI"
      },
      "execution_count": null,
      "outputs": []
    },
    {
      "cell_type": "code",
      "source": [
        "import numpy as np\n",
        "import matplotlib.pyplot as plt\n",
        "from keras.datasets import mnist\n",
        "(x_train, t_train), (x_test, t_test) = mnist.load_data()\n",
        "\n",
        "### Noramlize * Flatten\n",
        "# x_test = x_test.flatten() / 255.0\n",
        "# x_train = x_train.flatten() / 255.0\n",
        "x_test =x_test.reshape(x_test.shape[0], -1) / 255.0\n",
        "x_train = x_train.reshape(x_train.shape[0], -1) / 255.0\n",
        "###\n",
        "\n",
        "train_acc_list=[]\n",
        "train_loss_list=[]\n",
        "test_acc_list=[]\n",
        "\n",
        "data_size = x_train.shape[0]\n",
        "learning_rate = 0.1\n",
        "iteration = 10000\n",
        "batch_size = 100\n",
        "\n",
        "iteration_per_epoch = max ( data_size / batch_size, 1)\n",
        "\n",
        "network = TwolayerNet(input_size = 784, hidden_size = 50, output_size = 10)\n",
        "\n",
        "\n",
        "for i in range(iteration) :\n",
        "  batch_mask= np.random.choice(data_size, batch_size)\n",
        "  x_batch = x_train[batch_mask]\n",
        "  t_batch = t_train[batch_mask]\n",
        "  grad = network.gradient(x_batch, t_batch) #Check\n",
        "\n",
        "  for key in ('W1', 'b1','W2', 'b2'):\n",
        "    network.params[key] -= learning_rate * grad[key]\n",
        "\n",
        "  loss = network.loss(x_batch, t_batch)\n",
        "  train_loss_list.append(loss)\n",
        "\n",
        "### re-again!\n",
        "  if i % iteration_per_epoch ==0:\n",
        "    train_acc = network.accuracy(x_train, t_train)\n",
        "    test_acc = network.accuracy(x_test, t_test)\n",
        "    train_acc_list.append(train_acc)\n",
        "    test_acc_list.append(test_acc)\n",
        "\n",
        "    print(\"train acc, test acc | : \"+ str(train_acc) + \", \" + str(test_acc))\n",
        "\n",
        "markers = {'train':'o', 'test': 's'}\n",
        "x= np.arange(len(train_acc_list))\n",
        "plt.plot(x, train_acc_list, label='train acc')\n",
        "plt.plot(x, test_acc_list, label='test acc', linestyle='--')\n",
        "\n",
        "plt.xlabel('ephocs')\n",
        "plt.ylabel('accuracy')\n",
        "\n",
        "plt.ylim(0,1.0)\n",
        "plt.legend(loc='lower right')\n",
        "plt.show()"
      ],
      "metadata": {
        "id": "tXFWOTE-z0tI"
      },
      "execution_count": null,
      "outputs": []
    },
    {
      "cell_type": "code",
      "source": [],
      "metadata": {
        "id": "Ym3_ATzPqPXI"
      },
      "execution_count": null,
      "outputs": []
    }
  ]
}