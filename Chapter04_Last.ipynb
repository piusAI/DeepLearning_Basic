{
  "nbformat": 4,
  "nbformat_minor": 0,
  "metadata": {
    "colab": {
      "provenance": [],
      "gpuType": "T4",
      "authorship_tag": "ABX9TyObJxL9a8JIlEzgGObsHg8y",
      "include_colab_link": true
    },
    "kernelspec": {
      "name": "python3",
      "display_name": "Python 3"
    },
    "language_info": {
      "name": "python"
    },
    "accelerator": "GPU"
  },
  "cells": [
    {
      "cell_type": "markdown",
      "metadata": {
        "id": "view-in-github",
        "colab_type": "text"
      },
      "source": [
        "<a href=\"https://colab.research.google.com/github/piusAI/DeepLearning_Basic/blob/main/Chapter04_Last.ipynb\" target=\"_parent\"><img src=\"https://colab.research.google.com/assets/colab-badge.svg\" alt=\"Open In Colab\"/></a>"
      ]
    },
    {
      "cell_type": "markdown",
      "source": [
        "###Chapter 04"
      ],
      "metadata": {
        "id": "8Iq2c8PgZ-Az"
      }
    },
    {
      "cell_type": "markdown",
      "source": [
        "#### To do this!"
      ],
      "metadata": {
        "id": "7FHdi-wHaBn0"
      }
    },
    {
      "cell_type": "markdown",
      "source": [
        "- 01 Sigmoid, Softmax, CEE\n",
        "- 02 Gradient, Sigmoid_gradient(sigmoid differentiation)\n",
        "- 03 TwoNetwork\n",
        "\n",
        "\n",
        "Avartar **S**tochastic **D**escent **G**radient\n"
      ],
      "metadata": {
        "id": "Rev7h16tWE8a"
      }
    },
    {
      "cell_type": "markdown",
      "source": [
        "#### 01 sigmoid, Softmax, CEE, Gradient\n",
        "02 gradient"
      ],
      "metadata": {
        "id": "7ya0fb5caGrv"
      }
    },
    {
      "cell_type": "code",
      "execution_count": null,
      "metadata": {
        "id": "Y66V4JYcVpp5"
      },
      "outputs": [],
      "source": [
        "import numpy as np\n",
        "\n",
        "def sigmoid(x):\n",
        "  return 1 / (1+ np.exp(-x))\n",
        "\n",
        "def sigmoid_gradient(x):\n",
        "  return sigmoid(x) * (1 - sigmoid(x) )\n",
        "\n",
        "def softmax(x):\n",
        "  if x.ndim==2:\n",
        "    x= x-np.max(x,axis=1, keepdims=True)\n",
        "    return np.exp(x) / np.sum(np.exp(x),axis=1, keepdims=True)\n",
        "  x = x- np.max(x)\n",
        "  return np.exp(x) / np.sum(np.exp(x))\n",
        "\n",
        "def CEE(y,t):\n",
        "  if y.ndim==1:\n",
        "    y = y.reshape(y.shape[0], 1)\n",
        "    t = t.reshape(t.shape[0], 1)\n",
        "  batch_size = y.shape[0]\n",
        "  return -np.sum(np.log(y[np.arange(batch_size), t]))/ batch_size\n",
        "\n",
        "def _numerical_gradient_no_batch(f,x):\n",
        "  h=1e-4\n",
        "  grad = np.zeros_like(x)\n",
        "\n",
        "  for idx in range(x.size):\n",
        "    tmp_val = x[idx]\n",
        "    x[idx] = float(tmp_val)+h\n",
        "    fxh1 = f(x)\n",
        "\n",
        "    x[idx] = tmp_val - h\n",
        "    fxh2 = f(x)\n",
        "\n",
        "    grad[idx] = (fxh1-fxh2) / ( 2* h)\n",
        "    x[idx] = tmp_val\n",
        "    return grad\n",
        "def numerical_gradient(f,X):\n",
        "  if X.ndim == 1:\n",
        "    return _numerical_gradient_no_batch(f,X)\n",
        "  else:\n",
        "    grad = np.zeros_like(X)\n",
        "    for i, idx in enumerate(X):\n",
        "      grad[i] = _numerical_gradient_no_batch(f,idx)\n",
        "    return grad"
      ]
    },
    {
      "cell_type": "markdown",
      "source": [
        "####03 Two Network"
      ],
      "metadata": {
        "id": "ws-5NykdaNpY"
      }
    },
    {
      "cell_type": "code",
      "source": [
        "class TwolayerNet:\n",
        "  def __init__(self, input_size, hidden_size, output_size, weight_init_std= 0.01):\n",
        "    self.params = {}\n",
        "    self.params['W1'] = weight_init_std * np.random.randn(input_size, hidden_size)\n",
        "    self.params['b1'] = np.zeros(hidden_size)\n",
        "    self.params['W2'] = weight_init_std * np.random.randn(hidden_size, output_size)\n",
        "    self.params['b2'] = np.zeros(output_size)\n",
        "  def predict(self, x):\n",
        "    W1, W2 = self.params['W1'], self.params['W2']\n",
        "    b1, b2 = self.params['b1'], self.params['b2']\n",
        "\n",
        "    a1 = np.dot(x, W1) + b1\n",
        "    y1 = sigmoid(a1)\n",
        "    a2 = np.dot(y1, W2) + b2\n",
        "    y2 = softmax(a2)\n",
        "    return y2\n",
        "  def accuracy(self, x, t):\n",
        "    y = self.predict(x)\n",
        "    y = np.argmax(y, axis=1)\n",
        "\n",
        "    if t.ndim != 1:\n",
        "      t = np.argmax(t, axis=1)\n",
        "\n",
        "    accuracy = np.sum(y == t) / float(x.shape[0])\n",
        "    return accuracy\n",
        "\n",
        "  def loss(self, x, t):\n",
        "    y = self.predict(x)\n",
        "    return CEE(y,t)\n",
        "\n",
        "  def numerical_gradient(self, x, t):\n",
        "    loss_w = lambda w : self.loss(x,t)\n",
        "\n",
        "    grads = {}\n",
        "    grads['W1'] = numerical_gradient(loss_w, self.params['W1'])\n",
        "    grads['b1'] = numerical_gradient(loss_w, self.params['b1'])\n",
        "    grads['W2'] = numerical_gradient(loss_w, self.params['W2'])\n",
        "    grads['b2'] = numerical_gradient(loss_w, self.params['b2'])\n",
        "\n",
        "    return grads\n",
        "\n",
        "#역전파는 그냥 Pass\n",
        "  def gradient(self, x, t):\n",
        "    W1, W2 = self.params['W1'], self.params['W2']\n",
        "    b1, b2 = self.params['b1'], self.params['b2']\n",
        "\n",
        "    grads={}\n",
        "    batch_num = x.shape[0]\n",
        "\n",
        "    a1= np.dot(x,W1) + b1\n",
        "    z1 = sigmoid(a1)\n",
        "    a2 = np.dot(z1, W2) + b2\n",
        "    y = softmax(a2)\n",
        "\n",
        "    if t.ndim ==1:\n",
        "      t_one_hot = np.zeros_like(y)\n",
        "      t_one_hot[np.arange(batch_num), t] = 1\n",
        "      t = t_one_hot\n",
        "    dy = (y-t) /batch_num\n",
        "    grads ['W2'] = np.dot(z1.T, dy)\n",
        "    grads['b2'] = np.sum(dy, axis=0)\n",
        "\n",
        "    dz1 = np.dot(dy, W2.T)\n",
        "    da1 = sigmoid_gradient(a1) * dz1\n",
        "    grads['W1'] = np.dot(x.T, da1)\n",
        "    grads['b1'] = np.sum(da1, axis=0)\n",
        "\n",
        "    return grads"
      ],
      "metadata": {
        "id": "iiMQdaLjacPq"
      },
      "execution_count": null,
      "outputs": []
    },
    {
      "cell_type": "code",
      "source": [],
      "metadata": {
        "id": "N8LTr8DgZBrY"
      },
      "execution_count": null,
      "outputs": []
    },
    {
      "cell_type": "markdown",
      "source": [
        "##여기서부터 다시"
      ],
      "metadata": {
        "id": "cdlSndmItKeH"
      }
    },
    {
      "cell_type": "markdown",
      "source": [
        "#### Load Mnist data"
      ],
      "metadata": {
        "id": "GNobQy--ouvP"
      }
    },
    {
      "cell_type": "code",
      "source": [
        "import numpy as np\n",
        "import matplotlib.pyplot as plt\n",
        "from keras.datasets import mnist\n",
        "\n",
        "(x_train, t_train), (x_test, t_test) = mnist.load_data()\n",
        "\n",
        "x_train = x_train.reshape(-1,784)\n",
        "x_test = x_train.reshape(-1, 784)\n",
        "\n",
        "plt.imshow(x_train[2].reshape(28,28))"
      ],
      "metadata": {
        "colab": {
          "base_uri": "https://localhost:8080/",
          "height": 447
        },
        "id": "xCBO8AMDyqoI",
        "outputId": "13daf533-ab7e-4784-e295-a687a0f0dd55"
      },
      "execution_count": null,
      "outputs": [
        {
          "output_type": "execute_result",
          "data": {
            "text/plain": [
              "<matplotlib.image.AxesImage at 0x7a3423a85dd0>"
            ]
          },
          "metadata": {},
          "execution_count": 5
        },
        {
          "output_type": "display_data",
          "data": {
            "text/plain": [
              "<Figure size 640x480 with 1 Axes>"
            ],
            "image/png": "[encoded data removed]"
          },
          "metadata": {}
        }
      ]
    },
    {
      "cell_type": "code",
      "source": [
        "import numpy as np\n",
        "import matplotlib.pyplot as plt\n",
        "from keras.datasets import mnist\n",
        "(x_train, t_train), (x_test, t_test) = mnist.load_data()\n",
        "\n",
        "### Noramlize * Flatten\n",
        "# x_test = x_test.flatten() / 255.0\n",
        "# x_train = x_train.flatten() / 255.0\n",
        "x_test =x_test.reshape(x_test.shape[0], -1) / 255.0\n",
        "x_train = x_train.reshape(x_train.shape[0], -1) / 255.0\n",
        "###\n",
        "\n",
        "train_acc_list=[]\n",
        "train_loss_list=[]\n",
        "test_acc_list=[]\n",
        "\n",
        "data_size = x_train.shape[0]\n",
        "learning_rate = 0.1\n",
        "iteration = 10000\n",
        "batch_size = 100\n",
        "\n",
        "iteration_per_epoch = max ( data_size / batch_size, 1)\n",
        "\n",
        "network = TwolayerNet(input_size = 784, hidden_size = 50, output_size = 10)\n",
        "\n",
        "\n",
        "for i in range(iteration) :\n",
        "  batch_mask= np.random.choice(data_size, batch_size)\n",
        "  x_batch = x_train[batch_mask]\n",
        "  t_batch = t_train[batch_mask]\n",
        "  grad = network.gradient(x_batch, t_batch) #Check\n",
        "\n",
        "  for key in ('W1', 'b1','W2', 'b2'):\n",
        "    network.params[key] -= learning_rate * grad[key]\n",
        "\n",
        "  loss = network.loss(x_batch, t_batch)\n",
        "  train_loss_list.append(loss)\n",
        "\n",
        "### re-again!\n",
        "  if i % iteration_per_epoch ==0:\n",
        "    train_acc = network.accuracy(x_train, t_train)\n",
        "    test_acc = network.accuracy(x_test, t_test)\n",
        "    train_acc_list.append(train_acc)\n",
        "    test_acc_list.append(test_acc)\n",
        "\n",
        "    print(\"train acc, test acc | : \"+ str(train_acc) + \", \" + str(test_acc))\n",
        "\n",
        "markers = {'train':'o', 'test': 's'}\n",
        "x= np.arange(len(train_acc_list))\n",
        "plt.plot(x, train_acc_list, label='train acc')\n",
        "plt.plot(x, test_acc_list, label='test acc', linestyle='--')\n",
        "\n",
        "plt.xlabel('ephocs')\n",
        "plt.ylabel('accuracy')\n",
        "\n",
        "plt.ylim(0,1.0)\n",
        "plt.legend(loc='lower right')\n",
        "plt.show()"
      ],
      "metadata": {
        "colab": {
          "base_uri": "https://localhost:8080/",
          "height": 750
        },
        "id": "tXFWOTE-z0tI",
        "outputId": "2ada1713-77f4-489f-de4f-f0ae76c9b42f"
      },
      "execution_count": null,
      "outputs": [
        {
          "output_type": "stream",
          "name": "stdout",
          "text": [
            "train acc, test acc | : 0.11236666666666667, 0.1135\n",
            "train acc, test acc | : 0.7707666666666667, 0.7819\n",
            "train acc, test acc | : 0.8754166666666666, 0.8791\n",
            "train acc, test acc | : 0.8975833333333333, 0.9004\n",
            "train acc, test acc | : 0.9065666666666666, 0.9091\n",
            "train acc, test acc | : 0.9134666666666666, 0.9152\n",
            "train acc, test acc | : 0.9184, 0.9202\n",
            "train acc, test acc | : 0.92265, 0.9242\n",
            "train acc, test acc | : 0.92705, 0.9287\n",
            "train acc, test acc | : 0.9306833333333333, 0.9311\n",
            "train acc, test acc | : 0.9335666666666667, 0.9349\n",
            "train acc, test acc | : 0.9367, 0.938\n",
            "train acc, test acc | : 0.9389833333333333, 0.9385\n",
            "train acc, test acc | : 0.9410166666666666, 0.9403\n",
            "train acc, test acc | : 0.9439166666666666, 0.9415\n",
            "train acc, test acc | : 0.94565, 0.9439\n",
            "train acc, test acc | : 0.9472333333333334, 0.946\n"
          ]
        },
        {
          "output_type": "display_data",
          "data": {
            "text/plain": [
              "<Figure size 640x480 with 1 Axes>"
            ],
            "image/png": "[encoded data removed]"
          },
          "metadata": {}
        }
      ]
    },
    {
      "cell_type": "code",
      "source": [],
      "metadata": {
        "id": "Ym3_ATzPqPXI"
      },
      "execution_count": null,
      "outputs": []
    }
  ]
}