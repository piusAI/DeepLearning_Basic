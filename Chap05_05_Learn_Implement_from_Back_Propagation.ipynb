{
  "nbformat": 4,
  "nbformat_minor": 0,
  "metadata": {
    "colab": {
      "provenance": [],
      "collapsed_sections": [
        "NdmZnK-m2Jgu"
      ],
      "toc_visible": true,
      "authorship_tag": "ABX9TyP5js2mFXJtxbIXumAQyMSk",
      "include_colab_link": true
    },
    "kernelspec": {
      "name": "python3",
      "display_name": "Python 3"
    },
    "language_info": {
      "name": "python"
    }
  },
  "cells": [
    {
      "cell_type": "markdown",
      "metadata": {
        "id": "view-in-github",
        "colab_type": "text"
      },
      "source": [
        "<a href=\"https://colab.research.google.com/github/piusAI/DeepLearning_Basic/blob/main/Chap05_05_Learn_Implement_from_Back_Propagation.ipynb\" target=\"_parent\"><img src=\"https://colab.research.google.com/assets/colab-badge.svg\" alt=\"Open In Colab\"/></a>"
      ]
    },
    {
      "cell_type": "markdown",
      "source": [
        "# BackPropagation"
      ],
      "metadata": {
        "id": "4weqPwGApyp9"
      }
    },
    {
      "cell_type": "markdown",
      "source": [
        "### Prepration TwoLayerNet"
      ],
      "metadata": {
        "id": "c2iW3zubp0Wd"
      }
    },
    {
      "cell_type": "markdown",
      "source": [
        "#### def Function"
      ],
      "metadata": {
        "id": "E1et-MqW1-Le"
      }
    },
    {
      "cell_type": "code",
      "source": [
        "import numpy as np\n",
        "import keras.datasets.mnist as mnist\n",
        "\n",
        "mnist.load_data()\n",
        "\n",
        "def sigmoid(x):\n",
        "  return 1 / 1+ np.exp(-x)\n",
        "\n",
        "def softmax(a):\n",
        "  if a.ndim==2:\n",
        "    a = a - np.max(a, axis=1, keepdims=1)\n",
        "    y = np.exp(a) / np.sum(np.exp(a), axis=1, keepdims=1)\n",
        "  else:\n",
        "    a = a - np.max(a)\n",
        "    y = np.exp(a) / np.sum(np.exp(a))\n",
        "  return y\n",
        "\n",
        "def CEE(y, t):\n",
        "  if y.ndim==1:\n",
        "    y.reshape = (y.shape[0], -1)\n",
        "    t.reshape = (t.shape[0], -1)\n",
        "  batch_size = y.shape[0]\n",
        "  loss = np.log(np.sum( y[np.arange(batch_size),t] )) /batch_size\n",
        "  return loss"
      ],
      "metadata": {
        "id": "Kr-l8Vlhp14C"
      },
      "execution_count": 43,
      "outputs": []
    },
    {
      "cell_type": "markdown",
      "source": [
        "#### Def Code - Relu, Affine, SoftmaxWithLoss - 따라침"
      ],
      "metadata": {
        "id": "KHgY3iNHvJMa"
      }
    },
    {
      "cell_type": "code",
      "source": [
        "import numpy as np\n",
        "\n",
        "class Relu:\n",
        "  def __init__(self):\n",
        "    self.mask = None\n",
        "\n",
        "  def forward(self, x):\n",
        "    self.mask = (x<=0)\n",
        "    out = x.copy()\n",
        "    out[self.mask] = 0\n",
        "    return out\n",
        "\n",
        "  def backward(self, dout):\n",
        "    dout[self.mask]=0\n",
        "    dx = dout\n",
        "\n",
        "    return dx\n",
        "\n",
        "class Affine:\n",
        "  def __init__(self, W, b):\n",
        "    self.W = W\n",
        "    self.b = b\n",
        "\n",
        "    self.x = None\n",
        "    self.original_x_shape = None\n",
        "\n",
        "    self.dW = None\n",
        "    self.db = None\n",
        "\n",
        "  def forward(self, x):\n",
        "    self.original_x_shape = x.shape\n",
        "    x = x.reshape(x.shape[0], -1)\n",
        "\n",
        "    self.x = x\n",
        "    out = np.dot(self.x, self.W) + self.b\n",
        "\n",
        "    return out\n",
        "\n",
        "  def backward(self, dout):\n",
        "    dx = np.dot(dout, self.W.T)\n",
        "    self.dW = np.dot(self.x.T, dout)\n",
        "    self.db = np.sum(dout, axis=0)\n",
        "\n",
        "    dx = dx.reshape(*self.original_x_shape)\n",
        "    return dx\n",
        "\n",
        "class SoftmaxWithLoss:\n",
        "  def __init__(self):\n",
        "    self.loss = None\n",
        "    self.y = None\n",
        "    self.t = None\n",
        "  def forward(self, x, t):\n",
        "    self.t = t\n",
        "    self.y = softmax(x)\n",
        "    self. loss = CEE(self.y, self.t)\n",
        "\n",
        "    return self.loss\n",
        "\n",
        "  def backward(self, dout = 1):\n",
        "    batch_size = self.t.shape[0]\n",
        "    if self.t.size == self.y.size:\n",
        "      dx = (self.y - self.t) / batch_size\n",
        "\n",
        "    else :\n",
        "      dx = self.y.copy()\n",
        "      dx[np.arange(batch_size), self.t] -=1\n",
        "      dx = dx/ batch_size\n",
        "    return dx"
      ],
      "metadata": {
        "id": "vtw0IAx4vIy0"
      },
      "execution_count": 44,
      "outputs": []
    },
    {
      "cell_type": "markdown",
      "source": [
        "위 코드 직접 구현 추후 해보기"
      ],
      "metadata": {
        "id": "WhZ9M8Esw688"
      }
    },
    {
      "cell_type": "markdown",
      "source": [
        "### Implement TwoLayer Net"
      ],
      "metadata": {
        "id": "lNnu_1Av2DwN"
      }
    },
    {
      "cell_type": "code",
      "source": [
        "\n",
        "from collections import OrderedDict\n",
        "\n",
        "class TwolayerNet():\n",
        "  def __init__(self, input_size, hidden_size, output_size, weight_init_std = 0.01):\n",
        "    self.params={}\n",
        "    self.params['W1'] = weight_init_std * np.random.randn(input_size, hidden_size)\n",
        "    self.params['b1'] = np.zeros(hidden_size)\n",
        "    self.params['W2'] = weight_init_std * np.random.randn(hidden_size, output_size)\n",
        "    self.params['b2'] = np.zeros(output_size)\n",
        "\n",
        "    self.layers = OrderedDict()\n",
        "    self.layers['Affine1'] = Affine(self.params['W1'], self.params['b1'])\n",
        "    self.layers['Relu1'] = Relu()\n",
        "    self.layers['Affine2'] = Affine(self.params['W2'], self.params['b2'])\n",
        "\n",
        "    self.lastlayers = SoftmaxWithLoss()\n",
        "\n",
        "  def predict(self, x):\n",
        "    for layer in self.layers.values():\n",
        "      x = layer.forwad(x)\n",
        "    return x\n",
        "\n",
        "  def loss(self, x,t):\n",
        "    y = self.x.predict(x)\n",
        "    return self.lastlayers.forward(y,t)\n",
        ""
      ],
      "metadata": {
        "id": "cd8v8rTZsA8u"
      },
      "execution_count": 45,
      "outputs": []
    },
    {
      "cell_type": "markdown",
      "source": [
        "✅ 정리 요약\n",
        "\n",
        "-\n",
        "\n",
        "1.   역전파시, 순서가 중요하기떄문에 OrderedDiction으로!\n",
        "\n",
        "\n",
        "➡ Affine1, Relu1, Affine2 이 순서가 중요!\n",
        "\n",
        "2.   predict는 Softmax이전까지의 Forward(순전파)\n",
        "\n",
        "3.   forward는 Affine.forward, Relu.forward의 순전파 Module"
      ],
      "metadata": {
        "id": "bkRqlvPQyFzP"
      }
    },
    {
      "cell_type": "code",
      "source": [
        "tl = TwolayerNet(input_size = 784, hidden_size = 50, output_size = 10)\n",
        "\n",
        "print(tl.layers.values())\n",
        "print(tl.layers.keys())"
      ],
      "metadata": {
        "colab": {
          "base_uri": "https://localhost:8080/"
        },
        "id": "mmI-vJKCr--y",
        "outputId": "98fdd5e9-f3bc-40eb-b50e-5e8ae0bd8b1d"
      },
      "execution_count": 46,
      "outputs": [
        {
          "output_type": "stream",
          "name": "stdout",
          "text": [
            "odict_values([<__main__.Affine object at 0x79a2b2f86250>, <__main__.Relu object at 0x79a2af58ee50>, <__main__.Affine object at 0x79a2af7809d0>])\n",
            "odict_keys(['Affine1', 'Relu1', 'Affine2'])\n"
          ]
        }
      ]
    },
    {
      "cell_type": "markdown",
      "source": [
        "=> Key, Value를 확인할 수 있다"
      ],
      "metadata": {
        "id": "7Mk44WHT15pd"
      }
    },
    {
      "cell_type": "markdown",
      "source": [
        "#### OrderedDictionary?"
      ],
      "metadata": {
        "id": "NdmZnK-m2Jgu"
      }
    },
    {
      "cell_type": "code",
      "source": [
        "from collections import OrderedDict\n",
        "\n",
        "a = {'Pius' : \"Ai\", \"JGAi\" : \"Soccer\", \"SaaS\" : \"Service\"}\n",
        "b = {\"JGAi\" : \"Soccer\", \"SaaS\" : \"Service\",'Pius' : \"Ai\" }\n",
        "\n",
        "c=OrderedDict(a)\n",
        "d=OrderedDict(b)\n",
        "\n",
        "print(a==b)\n",
        "print(c==d)"
      ],
      "metadata": {
        "colab": {
          "base_uri": "https://localhost:8080/"
        },
        "id": "24876FfJubTD",
        "outputId": "00b7d506-ff4a-433d-fa13-a943362128bf"
      },
      "execution_count": 47,
      "outputs": [
        {
          "output_type": "stream",
          "name": "stdout",
          "text": [
            "True\n",
            "False\n"
          ]
        }
      ]
    },
    {
      "cell_type": "markdown",
      "source": [
        "- Dictionary는 순서에 구애 받지 않는 Key-Value.\n",
        "- OrderDictionary는 순서에 구애 받는다."
      ],
      "metadata": {
        "id": "2loaM6bEu1-b"
      }
    },
    {
      "cell_type": "code",
      "source": [],
      "metadata": {
        "id": "fw2u9DYUuxdj"
      },
      "execution_count": null,
      "outputs": []
    }
  ]
}