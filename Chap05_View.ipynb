{
  "nbformat": 4,
  "nbformat_minor": 0,
  "metadata": {
    "colab": {
      "provenance": [],
      "authorship_tag": "ABX9TyOMGzqFCjpeDm3A+MBc1PLq",
      "include_colab_link": true
    },
    "kernelspec": {
      "name": "python3",
      "display_name": "Python 3"
    },
    "language_info": {
      "name": "python"
    }
  },
  "cells": [
    {
      "cell_type": "markdown",
      "metadata": {
        "id": "view-in-github",
        "colab_type": "text"
      },
      "source": [
        "<a href=\"https://colab.research.google.com/github/piusAI/DeepLearning_Basic/blob/main/Chap05_View.ipynb\" target=\"_parent\"><img src=\"https://colab.research.google.com/assets/colab-badge.svg\" alt=\"Open In Colab\"/></a>"
      ]
    },
    {
      "cell_type": "markdown",
      "source": [
        "###Chap05"
      ],
      "metadata": {
        "id": "P3HxwEQQM6OV"
      }
    },
    {
      "cell_type": "markdown",
      "source": [
        "chain rule은 수열을 반대로 한것과 비슷하다.\n",
        "\n",
        "=> 이전 레이어에서 전달된 값, Dout과 현재 국소 미분과 곱해서 전달.\n",
        "\n",
        "🚀 *역전파 핵심* 🚀\n"
      ],
      "metadata": {
        "id": "JzovRhWbNAjt"
      }
    },
    {
      "cell_type": "code",
      "source": [
        "class MulLayer :\n",
        "    def __init__(self):\n",
        "        self.x = None\n",
        "        self.y = None\n",
        "\n",
        "    def forward(self, x, y):\n",
        "        self.x = x\n",
        "        self.y = y\n",
        "\n",
        "        out = x * y\n",
        "        return out\n",
        "    def backward(self, dout):\n",
        "        dx = dout * self.y\n",
        "        dy = dout * self.x\n",
        "\n",
        "        return dx, dy"
      ],
      "metadata": {
        "id": "Fhtc-b4vOL_-"
      },
      "execution_count": 2,
      "outputs": []
    },
    {
      "cell_type": "markdown",
      "source": [
        "Forward Propagation"
      ],
      "metadata": {
        "id": "NKBxGGOWPO29"
      }
    },
    {
      "cell_type": "code",
      "source": [
        "apple =100\n",
        "apple_num = 2\n",
        "tax = 1.1\n",
        "\n",
        "mul_apple_layer = MulLayer()\n",
        "mul_tax_layer=MulLayer()\n",
        "\n",
        "apple_price = mul_apple_layer.forward(apple, apple_num)\n",
        "price = mul_tax_layer.forward(apple_price, tax)\n",
        "\n",
        "print(price)"
      ],
      "metadata": {
        "colab": {
          "base_uri": "https://localhost:8080/"
        },
        "id": "iVEG2Il6ONb9",
        "outputId": "46a57b45-21c8-4f09-b412-60db37158ed9"
      },
      "execution_count": 3,
      "outputs": [
        {
          "output_type": "stream",
          "name": "stdout",
          "text": [
            "220.00000000000003\n"
          ]
        }
      ]
    },
    {
      "cell_type": "markdown",
      "source": [
        "Back Propagation"
      ],
      "metadata": {
        "id": "wtWLrHpxPR0u"
      }
    },
    {
      "cell_type": "code",
      "execution_count": 5,
      "metadata": {
        "colab": {
          "base_uri": "https://localhost:8080/"
        },
        "id": "DHEhs3ZlM3E7",
        "outputId": "53979431-773b-424f-a4f1-1a7f64a9a133"
      },
      "outputs": [
        {
          "output_type": "stream",
          "name": "stdout",
          "text": [
            "2.2 110.00000000000001 200\n",
            "False\n"
          ]
        }
      ],
      "source": [
        "dprice = 1\n",
        "\n",
        "dapple_price, dtax = mul_tax_layer.backward(dprice)\n",
        "dapple, dapple_num = mul_apple_layer.backward(dapple_price)\n",
        "\n",
        "print(dapple, dapple_num, dtax)\n",
        "\n",
        "print(dapple_price==dtax)"
      ]
    },
    {
      "cell_type": "markdown",
      "source": [
        "순전파, 역전파 형식 차이\n",
        "\n",
        "✈\n",
        "\n",
        "Forward : Ouput 하나!\n",
        "\n",
        "\n",
        "```\n",
        "apple_price = mul_apple_layer.forward(apple, apple_num)\n",
        "```\n",
        "\n",
        "\n",
        "=> 단일한 결과이기에, 하나의 변수 Apple_price에 바로 넣음 .\n",
        "\n",
        "\n",
        "\n",
        "---\n",
        "✈\n",
        "\n",
        "\n",
        "BackWard : Output 두개 !\n",
        "\n",
        "```\n",
        "dapple_price, dtax = mul_tax_layer.backward(dprice)\n",
        "```\n",
        "\n",
        "=> 두개의 결과이기에, 두개의 변수, x, y로 할당시킴."
      ],
      "metadata": {
        "id": "Roxox-L9S1C-"
      }
    },
    {
      "cell_type": "code",
      "source": [],
      "metadata": {
        "id": "w0elDnUARQFq"
      },
      "execution_count": null,
      "outputs": []
    }
  ]
}