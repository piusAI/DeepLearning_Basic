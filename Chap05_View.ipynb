{
  "nbformat": 4,
  "nbformat_minor": 0,
  "metadata": {
    "colab": {
      "provenance": [],
      "authorship_tag": "ABX9TyOEZXI8rE8Da+X0fVIP6TQp",
      "include_colab_link": true
    },
    "kernelspec": {
      "name": "python3",
      "display_name": "Python 3"
    },
    "language_info": {
      "name": "python"
    }
  },
  "cells": [
    {
      "cell_type": "markdown",
      "metadata": {
        "id": "view-in-github",
        "colab_type": "text"
      },
      "source": [
        "<a href=\"https://colab.research.google.com/github/piusAI/DeepLearning_Basic/blob/main/Chap05_View.ipynb\" target=\"_parent\"><img src=\"https://colab.research.google.com/assets/colab-badge.svg\" alt=\"Open In Colab\"/></a>"
      ]
    },
    {
      "cell_type": "markdown",
      "source": [
        "###Chap05"
      ],
      "metadata": {
        "id": "P3HxwEQQM6OV"
      }
    },
    {
      "cell_type": "markdown",
      "source": [
        "chain rule은 수열을 반대로 한것과 비슷하다.\n",
        "\n",
        "=> 이전 레이어에서 전달된 값, Dout과 현재 국소 미분과 곱해서 전달.\n",
        "\n",
        "🚀 *역전파 핵심* 🚀\n"
      ],
      "metadata": {
        "id": "JzovRhWbNAjt"
      }
    },
    {
      "cell_type": "markdown",
      "source": [
        "MulLayer"
      ],
      "metadata": {
        "id": "30tSKv7jUdl5"
      }
    },
    {
      "cell_type": "code",
      "source": [
        "class MulLayer :\n",
        "    def __init__(self):\n",
        "        self.x = None\n",
        "        self.y = None\n",
        "\n",
        "    def forward(self, x, y):\n",
        "        self.x = x\n",
        "        self.y = y\n",
        "\n",
        "        out = x * y\n",
        "        return out\n",
        "    def backward(self, dout):\n",
        "        dx = dout * self.y\n",
        "        dy = dout * self.x\n",
        "\n",
        "        return dx, dy"
      ],
      "metadata": {
        "id": "Fhtc-b4vOL_-"
      },
      "execution_count": 1,
      "outputs": []
    },
    {
      "cell_type": "markdown",
      "source": [
        "Forward Propagation"
      ],
      "metadata": {
        "id": "NKBxGGOWPO29"
      }
    },
    {
      "cell_type": "code",
      "source": [
        "apple =100\n",
        "apple_num = 2\n",
        "tax = 1.1\n",
        "\n",
        "mul_apple_layer = MulLayer()\n",
        "mul_tax_layer=MulLayer()\n",
        "\n",
        "apple_price = mul_apple_layer.forward(apple, apple_num)\n",
        "price = mul_tax_layer.forward(apple_price, tax)\n",
        "\n",
        "print(price)"
      ],
      "metadata": {
        "colab": {
          "base_uri": "https://localhost:8080/"
        },
        "id": "iVEG2Il6ONb9",
        "outputId": "472591fc-5e69-4df9-df6a-ffe048c29024"
      },
      "execution_count": 2,
      "outputs": [
        {
          "output_type": "stream",
          "name": "stdout",
          "text": [
            "220.00000000000003\n"
          ]
        }
      ]
    },
    {
      "cell_type": "markdown",
      "source": [
        "Back Propagation"
      ],
      "metadata": {
        "id": "wtWLrHpxPR0u"
      }
    },
    {
      "cell_type": "code",
      "execution_count": 3,
      "metadata": {
        "colab": {
          "base_uri": "https://localhost:8080/"
        },
        "id": "DHEhs3ZlM3E7",
        "outputId": "b8cbc08d-4088-44ac-87e6-d3bde0aa0272"
      },
      "outputs": [
        {
          "output_type": "stream",
          "name": "stdout",
          "text": [
            "2.2 110.00000000000001 200\n",
            "False\n"
          ]
        }
      ],
      "source": [
        "dprice = 1\n",
        "\n",
        "dapple_price, dtax = mul_tax_layer.backward(dprice)\n",
        "dapple, dapple_num = mul_apple_layer.backward(dapple_price)\n",
        "\n",
        "print(dapple, dapple_num, dtax)\n",
        "\n",
        "print(dapple_price==dtax)"
      ]
    },
    {
      "cell_type": "markdown",
      "source": [
        "순전파, 역전파 형식 차이\n",
        "\n",
        "✈\n",
        "\n",
        "Forward : Ouput 하나!\n",
        "\n",
        "\n",
        "```\n",
        "apple_price = mul_apple_layer.forward(apple, apple_num)\n",
        "```\n",
        "\n",
        "\n",
        "=> 단일한 결과이기에, 하나의 변수 Apple_price에 바로 넣음 .\n",
        "\n",
        "\n",
        "\n",
        "---\n",
        "✈\n",
        "\n",
        "\n",
        "BackWard : Output 두개 !\n",
        "\n",
        "```\n",
        "dapple_price, dtax = mul_tax_layer.backward(dprice)\n",
        "```\n",
        "\n",
        "=> 두개의 결과이기에, 두개의 변수, x, y로 할당시킴."
      ],
      "metadata": {
        "id": "Roxox-L9S1C-"
      }
    },
    {
      "cell_type": "markdown",
      "source": [
        "AddLayer"
      ],
      "metadata": {
        "id": "3Xiz7uV4Ub3a"
      }
    },
    {
      "cell_type": "code",
      "source": [
        "class AddLayer:\n",
        "  def __init__(self):\n",
        "    pass\n",
        "  def forward(self, x, y):\n",
        "    out = x + y\n",
        "    return out\n",
        "  def backward(self,dout):\n",
        "    dx = dout *1\n",
        "    dy = dout *1\n",
        "    return dx, dy"
      ],
      "metadata": {
        "id": "2AEkMMUKUgmy"
      },
      "execution_count": 5,
      "outputs": []
    },
    {
      "cell_type": "markdown",
      "source": [
        "| 코드              | 의미                        | 실제 목적                                |\n",
        "| --------------- | ------------------------- | -------------------------- |\n",
        "| `self.x = None` | `self.x`라는 **인스턴스 변수 선언** | 나중에 사용할 값을 미리 저장할 \"칸\"을 만들어 놓는 것      |\n",
        "| `pass`          | 아무 작업 안 함                 | 단순히 `__init__()`을 비워둠 – 아무것도 초기화 안 함 |\n",
        "\n",
        "\n",
        "| Layer      | 기억 필요한 값 | `__init__()` 내용       | 이유               |\n",
        "| ---------- | -------- | --------------------- | ---------------- |\n",
        "| `MulLayer` | `x`, `y` | `self.x = None`, etc. | 역전파 때 x, y 필요    |\n",
        "| `AddLayer` | 없음       | `pass`                | 미분이 상수라 기억 필요 없음 |\n",
        "\n",
        "\n",
        "=> add Layer에서는 어차피 서로의 변수 필요 없어서 초기화 하지 않음"
      ],
      "metadata": {
        "id": "5CzXseJDVDkm"
      }
    },
    {
      "cell_type": "markdown",
      "source": [
        "#### Apple, Orange!"
      ],
      "metadata": {
        "id": "N8nWmPSfUB-_"
      }
    },
    {
      "cell_type": "code",
      "source": [
        "apple = 100\n",
        "apple_num = 2\n",
        "orange = 150\n",
        "orange_num = 3\n",
        "tax = 1.1\n",
        "\n",
        "mul_apple_layer = MulLayer()\n",
        "mul_orange_layer = MulLayer()\n",
        "add_apple_orange_layer = AddLayer()\n",
        "mul_tax_layer = MulLayer()\n",
        "\n",
        "#Forward\n",
        "apple_price = mul_apple_layer.forward(apple, apple_num)\n",
        "orange_price = mul_orange_layer.forward(orange, orange_num)\n",
        "all_price = add_apple_orange_layer.forward(apple_price, orange_price)\n",
        "price = mul_tax_layer.forward(all_price, tax)\n",
        "\n",
        "#Backward\n",
        "dprice=1\n",
        "dall_price, dtax = mul_tax_layer.backward(dprice)\n",
        "dapple_price, dorange_price = add_apple_orange_layer.backward(dall_price)\n",
        "dorange, dorange_num = mul_orange_layer.backward(dorange_price)\n",
        "dapple, dapple_num = mul_apple_layer.backward(dapple_price)\n",
        "\n",
        "print(price)\n",
        "print(dapple_num, dapple, dorange, dorange_num, dtax)"
      ],
      "metadata": {
        "id": "w0elDnUARQFq",
        "outputId": "93e15766-db78-424e-ef9b-7a6806d0b029",
        "colab": {
          "base_uri": "https://localhost:8080/"
        }
      },
      "execution_count": 6,
      "outputs": [
        {
          "output_type": "stream",
          "name": "stdout",
          "text": [
            "715.0000000000001\n",
            "110.00000000000001 2.2 3.3000000000000003 165.0 650\n"
          ]
        }
      ]
    },
    {
      "cell_type": "code",
      "source": [],
      "metadata": {
        "id": "H8ftCPdiUxYU"
      },
      "execution_count": null,
      "outputs": []
    }
  ]
}