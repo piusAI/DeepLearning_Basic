{
  "nbformat": 4,
  "nbformat_minor": 0,
  "metadata": {
    "colab": {
      "provenance": [],
      "gpuType": "T4",
      "authorship_tag": "ABX9TyN4yjMavbfPzOKF5+zU62E4",
      "include_colab_link": true
    },
    "kernelspec": {
      "name": "python3",
      "display_name": "Python 3"
    },
    "language_info": {
      "name": "python"
    },
    "accelerator": "GPU"
  },
  "cells": [
    {
      "cell_type": "markdown",
      "metadata": {
        "id": "view-in-github",
        "colab_type": "text"
      },
      "source": [
        "<a href=\"https://colab.research.google.com/github/piusAI/DeepLearning_Basic/blob/main/Chap05_View.ipynb\" target=\"_parent\"><img src=\"https://colab.research.google.com/assets/colab-badge.svg\" alt=\"Open In Colab\"/></a>"
      ]
    },
    {
      "cell_type": "markdown",
      "source": [
        "###Chap05"
      ],
      "metadata": {
        "id": "P3HxwEQQM6OV"
      }
    },
    {
      "cell_type": "markdown",
      "source": [
        "chain rule은 수열을 반대로 한것과 비슷하다.\n",
        "\n",
        "=> 이전 레이어에서 전달된 값, Dout과 현재 국소 미분과 곱해서 전달.\n",
        "\n",
        "🚀 *역전파 핵심* 🚀\n"
      ],
      "metadata": {
        "id": "JzovRhWbNAjt"
      }
    },
    {
      "cell_type": "markdown",
      "source": [
        "MulLayer"
      ],
      "metadata": {
        "id": "30tSKv7jUdl5"
      }
    },
    {
      "cell_type": "code",
      "source": [
        "class MulLayer :\n",
        "    def __init__(self):\n",
        "        self.x = None\n",
        "        self.y = None\n",
        "\n",
        "    def forward(self, x, y):\n",
        "        self.x = x\n",
        "        self.y = y\n",
        "\n",
        "        out = x * y\n",
        "        return out\n",
        "    def backward(self, dout):\n",
        "        dx = dout * self.y\n",
        "        dy = dout * self.x\n",
        "\n",
        "        return dx, dy"
      ],
      "metadata": {
        "id": "Fhtc-b4vOL_-"
      },
      "execution_count": 1,
      "outputs": []
    },
    {
      "cell_type": "markdown",
      "source": [
        "Forward Propagation"
      ],
      "metadata": {
        "id": "NKBxGGOWPO29"
      }
    },
    {
      "cell_type": "code",
      "source": [
        "apple =100\n",
        "apple_num = 2\n",
        "tax = 1.1\n",
        "\n",
        "mul_apple_layer = MulLayer()\n",
        "mul_tax_layer=MulLayer()\n",
        "\n",
        "apple_price = mul_apple_layer.forward(apple, apple_num)\n",
        "price = mul_tax_layer.forward(apple_price, tax)\n",
        "\n",
        "print(price)"
      ],
      "metadata": {
        "colab": {
          "base_uri": "https://localhost:8080/"
        },
        "id": "iVEG2Il6ONb9",
        "outputId": "2e828822-df1a-41ce-8c4c-21b0a6f474f8"
      },
      "execution_count": 2,
      "outputs": [
        {
          "output_type": "stream",
          "name": "stdout",
          "text": [
            "220.00000000000003\n"
          ]
        }
      ]
    },
    {
      "cell_type": "markdown",
      "source": [
        "Back Propagation"
      ],
      "metadata": {
        "id": "wtWLrHpxPR0u"
      }
    },
    {
      "cell_type": "code",
      "execution_count": 3,
      "metadata": {
        "colab": {
          "base_uri": "https://localhost:8080/"
        },
        "id": "DHEhs3ZlM3E7",
        "outputId": "c56accae-6bb1-44e9-e86e-59dc1470ebe3"
      },
      "outputs": [
        {
          "output_type": "stream",
          "name": "stdout",
          "text": [
            "2.2 110.00000000000001 200\n",
            "False\n"
          ]
        }
      ],
      "source": [
        "dprice = 1\n",
        "\n",
        "dapple_price, dtax = mul_tax_layer.backward(dprice)\n",
        "dapple, dapple_num = mul_apple_layer.backward(dapple_price)\n",
        "\n",
        "print(dapple, dapple_num, dtax)\n",
        "\n",
        "print(dapple_price==dtax)"
      ]
    },
    {
      "cell_type": "markdown",
      "source": [
        "순전파, 역전파 형식 차이\n",
        "\n",
        "✈\n",
        "\n",
        "Forward : Ouput 하나!\n",
        "\n",
        "\n",
        "```\n",
        "apple_price = mul_apple_layer.forward(apple, apple_num)\n",
        "```\n",
        "\n",
        "\n",
        "=> 단일한 결과이기에, 하나의 변수 Apple_price에 바로 넣음 .\n",
        "\n",
        "\n",
        "\n",
        "---\n",
        "✈\n",
        "\n",
        "\n",
        "BackWard : Output 두개 !\n",
        "\n",
        "```\n",
        "dapple_price, dtax = mul_tax_layer.backward(dprice)\n",
        "```\n",
        "\n",
        "=> 두개의 결과이기에, 두개의 변수, x, y로 할당시킴."
      ],
      "metadata": {
        "id": "Roxox-L9S1C-"
      }
    },
    {
      "cell_type": "markdown",
      "source": [
        "AddLayer"
      ],
      "metadata": {
        "id": "3Xiz7uV4Ub3a"
      }
    },
    {
      "cell_type": "code",
      "source": [
        "class AddLayer:\n",
        "  def __init__(self):\n",
        "    pass\n",
        "  def forward(self, x, y):\n",
        "    out = x + y\n",
        "    return out\n",
        "  def backward(self,dout):\n",
        "    dx = dout *1\n",
        "    dy = dout *1\n",
        "    return dx, dy"
      ],
      "metadata": {
        "id": "2AEkMMUKUgmy"
      },
      "execution_count": 4,
      "outputs": []
    },
    {
      "cell_type": "markdown",
      "source": [
        "| 코드              | 의미                        | 실제 목적                                |\n",
        "| --------------- | ------------------------- | -------------------------- |\n",
        "| `self.x = None` | `self.x`라는 **인스턴스 변수 선언** | 나중에 사용할 값을 미리 저장할 \"칸\"을 만들어 놓는 것      |\n",
        "| `pass`          | 아무 작업 안 함                 | 단순히 `__init__()`을 비워둠 – 아무것도 초기화 안 함 |\n",
        "\n",
        "\n",
        "| Layer      | 기억 필요한 값 | `__init__()` 내용       | 이유               |\n",
        "| ---------- | -------- | --------------------- | ---------------- |\n",
        "| `MulLayer` | `x`, `y` | `self.x = None`, etc. | 역전파 때 x, y 필요    |\n",
        "| `AddLayer` | 없음       | `pass`                | 미분이 상수라 기억 필요 없음 |\n",
        "\n",
        "\n",
        "=> add Layer에서는 어차피 서로의 변수 필요 없어서 초기화 하지 않음"
      ],
      "metadata": {
        "id": "5CzXseJDVDkm"
      }
    },
    {
      "cell_type": "markdown",
      "source": [
        "#### Apple, Orange!"
      ],
      "metadata": {
        "id": "N8nWmPSfUB-_"
      }
    },
    {
      "cell_type": "code",
      "source": [
        "apple = 100\n",
        "apple_num = 2\n",
        "orange = 150\n",
        "orange_num = 3\n",
        "tax = 1.1\n",
        "\n",
        "mul_apple_layer = MulLayer()\n",
        "mul_orange_layer = MulLayer()\n",
        "add_apple_orange_layer = AddLayer()\n",
        "mul_tax_layer = MulLayer()\n",
        "\n",
        "#Forward\n",
        "apple_price = mul_apple_layer.forward(apple, apple_num)\n",
        "orange_price = mul_orange_layer.forward(orange, orange_num)\n",
        "all_price = add_apple_orange_layer.forward(apple_price, orange_price)\n",
        "price = mul_tax_layer.forward(all_price, tax)\n",
        "\n",
        "#Backward\n",
        "dprice=1\n",
        "dall_price, dtax = mul_tax_layer.backward(dprice)\n",
        "dapple_price, dorange_price = add_apple_orange_layer.backward(dall_price)\n",
        "dorange, dorange_num = mul_orange_layer.backward(dorange_price)\n",
        "dapple, dapple_num = mul_apple_layer.backward(dapple_price)\n",
        "\n",
        "print(price)\n",
        "print(dapple_num, dapple, dorange, dorange_num, dtax)"
      ],
      "metadata": {
        "id": "w0elDnUARQFq",
        "outputId": "e1429ca8-6060-4a99-b1aa-66f8106354f4",
        "colab": {
          "base_uri": "https://localhost:8080/"
        }
      },
      "execution_count": 5,
      "outputs": [
        {
          "output_type": "stream",
          "name": "stdout",
          "text": [
            "715.0000000000001\n",
            "110.00000000000001 2.2 3.3000000000000003 165.0 650\n"
          ]
        }
      ]
    },
    {
      "cell_type": "code",
      "source": [
        "class Relu:\n",
        "  def __init__(self):\n",
        "    self.mask = None #Backward에서 쓸 위치로 기록\n",
        "  def forward(self,x):\n",
        "    self.mask = (x<=0) # 0이하인 Argument, True\n",
        "    out = x.copy()\n",
        "    out[self.mask] = 0 # True인것들 0으로 Exchange\n",
        "\n",
        "    return out\n",
        "\n",
        "  def backward(self, dout):\n",
        "    dout[self.mask] = 0\n",
        "    dx = dout\n",
        "\n",
        "    return dx"
      ],
      "metadata": {
        "id": "H8ftCPdiUxYU"
      },
      "execution_count": 6,
      "outputs": []
    },
    {
      "cell_type": "code",
      "source": [
        "import numpy as np\n",
        "\n",
        "x = np.random.choice(300,4).reshape(2,-1)\n",
        "x1 = np.random.choice(300,4).reshape(2,-1)\n",
        "A=x-x1\n",
        "\n",
        "print(A)\n",
        "ru=Relu()\n",
        "\n",
        "print(ru.forward(A))\n",
        "print(ru.backward(A))"
      ],
      "metadata": {
        "id": "S2glSuGBwc7X",
        "outputId": "9294d71e-9530-4ce9-8910-1f9f9a30fd1d",
        "colab": {
          "base_uri": "https://localhost:8080/"
        }
      },
      "execution_count": 7,
      "outputs": [
        {
          "output_type": "stream",
          "name": "stdout",
          "text": [
            "[[ 50   8]\n",
            " [-68  20]]\n",
            "[[50  8]\n",
            " [ 0 20]]\n",
            "[[50  8]\n",
            " [ 0 20]]\n"
          ]
        }
      ]
    },
    {
      "cell_type": "markdown",
      "source": [
        "Forward에서 True, False로 뽑아낸 이후에, 0이하인 Argument들만 0으로 바꿔치기한거네\n",
        "그이후 Backward는 그대로 self.mask를 활용해서 0으로 만들었는거 그대로 바꿔줌"
      ],
      "metadata": {
        "id": "7HHxpMoRxTqN"
      }
    },
    {
      "cell_type": "markdown",
      "source": [
        "| 구분                                     | 내용                                                                                                                                                       |\n",
        "| -------------------------------------- | -------------------------------------------------------------------------------------------------------------------------------------------------------- |\n",
        "| 🎢 **순전파 기반 학습 (numerical\\_gradient)** | 매번 파라미터를 바꿔가며 **한 파라미터에 대한 영향만 수치적으로 계산** → 모든 계산을 통째로 컴퓨터에 시켜서 **단순 brute force 방식** <br> → 후디니에서 **전체 시뮬 다시 돌리는 것**에 가까움                               |\n",
        "| 🛠 **역전파 기반 학습 (backpropagation)**     | 미리 만들어둔 **수식 (예: sigmoid의 y(1−y))**으로 **빠르게 gradient 계산** → 각 노드의 결과를 **캐시**해서 재사용하면서 효율적으로 작업 <br> → 후디니에서 **cache 걸고 옴니버스식 작업**하는 구조처럼 효율적 |\n"
      ],
      "metadata": {
        "id": "BiAdZi7t1GZo"
      }
    },
    {
      "cell_type": "code",
      "source": [
        "class sigmoid:\n",
        "  def __init__(self):\n",
        "    self.out = None\n",
        "  def forward(self, x):\n",
        "    out = 1/ (1 + np.exp(-x))\n",
        "    self.out= out\n",
        "    return out\n",
        "\n",
        "  def backward(self, dout):\n",
        "    dx = dout * (1.0 -self.out) * self.out\n",
        "    return dx"
      ],
      "metadata": {
        "id": "ao7D_0mEwiv4"
      },
      "execution_count": 8,
      "outputs": []
    },
    {
      "cell_type": "markdown",
      "source": [
        "####Affine in Bias"
      ],
      "metadata": {
        "id": "UsnHKtVNM-4a"
      }
    },
    {
      "cell_type": "code",
      "source": [
        "x_dot_W = np.array([[0,0,0],[10,10,10]])\n",
        "B=np.array([1,2,3])\n",
        "\n",
        "print(x_dot_W +B)"
      ],
      "metadata": {
        "id": "E24ErfgBM-kC",
        "outputId": "bf4089d5-5d18-48a8-99ce-1fb4b862dbe5",
        "colab": {
          "base_uri": "https://localhost:8080/"
        }
      },
      "execution_count": 9,
      "outputs": [
        {
          "output_type": "stream",
          "name": "stdout",
          "text": [
            "[[ 1  2  3]\n",
            " [11 12 13]]\n"
          ]
        }
      ]
    },
    {
      "cell_type": "code",
      "source": [
        "dY = np.array([[1,2,3],[4,5,6]])\n",
        "dB=np.sum(dY,axis=0)\n",
        "AM=np.argmax(dY,axis=1)\n",
        "print(dY)\n",
        "print(dB)\n",
        "print(AM)"
      ],
      "metadata": {
        "id": "Dzs-PpV1NRrn",
        "outputId": "35398bb1-df67-4eab-bb54-6dafeca5de17",
        "colab": {
          "base_uri": "https://localhost:8080/"
        }
      },
      "execution_count": 10,
      "outputs": [
        {
          "output_type": "stream",
          "name": "stdout",
          "text": [
            "[[1 2 3]\n",
            " [4 5 6]]\n",
            "[5 7 9]\n",
            "[2 2]\n"
          ]
        }
      ]
    },
    {
      "cell_type": "markdown",
      "source": [
        "###Affine"
      ],
      "metadata": {
        "id": "8QYRr3zQf4UG"
      }
    },
    {
      "cell_type": "code",
      "source": [
        "class Affine :\n",
        "  def __init__(self, W,b):\n",
        "    self.W = W\n",
        "    self.b = b\n",
        "    self.x = None\n",
        "    self.dW = None\n",
        "    self.db = None\n",
        "\n",
        "  def forward(self,x):\n",
        "    self.x = x\n",
        "    out = np.dot(x,self.W) + self.b\n",
        "\n",
        "    return out\n",
        "  def backward(self, dout):\n",
        "    dx = np.dot(dout, self.W.T)\n",
        "    self.dW = np.dot(self.x.T, dout)\n",
        "    self.db = np.sum(dout, axis=0)\n",
        "\n",
        "    return dx"
      ],
      "metadata": {
        "id": "8okMKwFFNalQ"
      },
      "execution_count": 11,
      "outputs": []
    }
  ]
}