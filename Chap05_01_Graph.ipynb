{
  "nbformat": 4,
  "nbformat_minor": 0,
  "metadata": {
    "colab": {
      "provenance": [],
      "authorship_tag": "ABX9TyPUiRvu2WKhI32cIpUCY09x",
      "include_colab_link": true
    },
    "kernelspec": {
      "name": "python3",
      "display_name": "Python 3"
    },
    "language_info": {
      "name": "python"
    }
  },
  "cells": [
    {
      "cell_type": "markdown",
      "metadata": {
        "id": "view-in-github",
        "colab_type": "text"
      },
      "source": [
        "<a href=\"https://colab.research.google.com/github/piusAI/DeepLearning_Basic/blob/main/Chap05_01_Graph.ipynb\" target=\"_parent\"><img src=\"https://colab.research.google.com/assets/colab-badge.svg\" alt=\"Open In Colab\"/></a>"
      ]
    },
    {
      "cell_type": "code",
      "execution_count": null,
      "metadata": {
        "id": "nyneX0cM4FMt"
      },
      "outputs": [],
      "source": [
        "#Multiply\n",
        "\n",
        "\n",
        "class MulLayer:\n",
        "  def __init__(self):\n",
        "    self.x = None\n",
        "    self.y = None\n",
        "\n",
        "  def forward(self, x, y):\n",
        "    self.x = x\n",
        "    self.y = y\n",
        "    out = x * y\n",
        "    return out\n",
        "\n",
        "  def backward(self, dout):\n",
        "    dx = dout * self.y\n",
        "    dy = dout * self.x\n",
        "    return dx, dy"
      ]
    },
    {
      "cell_type": "code",
      "source": [
        "gob = MulLayer()\n",
        "print(gob.forward(2,3))\n",
        "print(gob.backward(40))"
      ],
      "metadata": {
        "colab": {
          "base_uri": "https://localhost:8080/"
        },
        "id": "Xt8hb-BvZDlK",
        "outputId": "41b544d6-df66-4109-9677-84072ce9db38"
      },
      "execution_count": null,
      "outputs": [
        {
          "output_type": "stream",
          "name": "stdout",
          "text": [
            "6\n",
            "(120, 80)\n"
          ]
        }
      ]
    },
    {
      "cell_type": "code",
      "source": [
        "class AddLayer :\n",
        "  def __init__(self):\n",
        "    pass\n",
        "  def forward(self, x, y):\n",
        "    out = x + y\n",
        "    return out\n",
        "\n",
        "  def backward(self, dout):\n",
        "    dx = dout * 1\n",
        "    dy = dout * 1\n",
        "    return dx, dy"
      ],
      "metadata": {
        "id": "Q_JFq6i3ZsLx"
      },
      "execution_count": null,
      "outputs": []
    },
    {
      "cell_type": "code",
      "source": [
        "deo=AddLayer()\n",
        "print(deo.forward(2,3))\n",
        "print(deo.backward(40))"
      ],
      "metadata": {
        "colab": {
          "base_uri": "https://localhost:8080/"
        },
        "id": "jnedPheiZNOF",
        "outputId": "c34cad75-774e-436e-9cc4-ecb9fc45923d"
      },
      "execution_count": null,
      "outputs": [
        {
          "output_type": "stream",
          "name": "stdout",
          "text": [
            "5\n",
            "(40, 40)\n"
          ]
        }
      ]
    },
    {
      "cell_type": "markdown",
      "source": [
        "#### Apple 역전파 미분"
      ],
      "metadata": {
        "id": "ctQEtXbveaHp"
      }
    },
    {
      "cell_type": "code",
      "source": [
        "apple = 100\n",
        "apple_num = 2\n",
        "tax = 1.1\n",
        "\n",
        "mul_apple_layer = MulLayer()\n",
        "mul_tax_layer = MulLayer()\n",
        "\n",
        "apple_price = mul_apple_layer.forward(apple, apple_num)\n",
        "price = mul_tax_layer.forward(apple_price, tax)\n",
        "\n",
        "dprice = 1\n",
        "dapple_price, dtax = mul_tax_layer.backward(dprice)\n",
        "dapple, dapple_num = mul_apple_layer.backward(dapple_price)\n",
        "\n",
        "print(\"price\" , int(price))\n",
        "print(\"dapple,\", \"dapple_num ,\", \"dtax | \", dapple,\", \", dapple_num, \", \", dtax)"
      ],
      "metadata": {
        "colab": {
          "base_uri": "https://localhost:8080/"
        },
        "id": "srILFLC8aQdk",
        "outputId": "b6c15ad0-fc70-47ca-898c-b6c62624f3db"
      },
      "execution_count": null,
      "outputs": [
        {
          "output_type": "stream",
          "name": "stdout",
          "text": [
            "price 220\n",
            "dapple, dapple_num , dtax |  2.2 ,  110.00000000000001 ,  200\n"
          ]
        }
      ]
    },
    {
      "cell_type": "markdown",
      "source": [
        "#### Apple, Orange 역전파 미분"
      ],
      "metadata": {
        "id": "LreQNCJkec8q"
      }
    },
    {
      "cell_type": "code",
      "source": [
        "apple =100\n",
        "apple_num = 2\n",
        "orange = 150\n",
        "orange_num = 3\n",
        "tax = 1.1\n",
        "\n",
        "mul_apple_layer=MulLayer()\n",
        "mul_orange_layer=MulLayer()\n",
        "add_apple_orange_layer=AddLayer()\n",
        "mul_tax_layer=MulLayer()\n",
        "\n",
        "#forward\n",
        "apple_price = mul_apple_layer.forward(apple, apple_num)\n",
        "orange_price = mul_orange_layer.forward(orange, orange_num)\n",
        "all_price = add_apple_orange_layer.forward(apple_price, orange_price)\n",
        "price = mul_tax_layer.forward(all_price, tax)\n",
        "\n",
        "#BackWard\n",
        "dprice = 1\n",
        "dall_price, dtax = mul_tax_layer.backward(dprice)\n",
        "dapple_price, dorange_price = add_apple_orange_layer.backward(dall_price)\n",
        "dorange, dorange_num = mul_orange_layer.backward(dorange_price)\n",
        "dapple, dapple_num = mul_apple_layer.backward(dapple_price)\n",
        "\n",
        "print(\"price:\", int(price))\n",
        "print(\"dApple:\", dapple)\n",
        "print(\"dApple_num:\", int(dapple_num))\n",
        "print(\"dOrange:\", dorange)\n",
        "print(\"dOrange_num:\", int(dorange_num))\n",
        "print(\"dTax:\", dtax)"
      ],
      "metadata": {
        "colab": {
          "base_uri": "https://localhost:8080/"
        },
        "id": "eymx8fhwdDwn",
        "outputId": "dac06321-1045-4d49-a99c-c6bbe2b861e2"
      },
      "execution_count": null,
      "outputs": [
        {
          "output_type": "stream",
          "name": "stdout",
          "text": [
            "price: 715\n",
            "dApple: 2.2\n",
            "dApple_num: 110\n",
            "dOrange: 3.3000000000000003\n",
            "dOrange_num: 165\n",
            "dTax: 650\n"
          ]
        }
      ]
    },
    {
      "cell_type": "markdown",
      "source": [
        "#### Self BackWard"
      ],
      "metadata": {
        "id": "mlQaTcn9GNMa"
      }
    },
    {
      "cell_type": "code",
      "source": [
        "#!/usr/bin/env python3\n",
        "# -*- coding: utf-8 -*-\n",
        "\"\"\"\n",
        "Created on Tue Jun 10 10:22:52 2025\n",
        "\n",
        "@author: hwanghyojun\n",
        "\"\"\"\n",
        "\n",
        "import numpy as np\n",
        "\n",
        "class add_function:\n",
        "    def __init__(self):\n",
        "        pass\n",
        "    def forward(self, x, y):\n",
        "        out = x + y\n",
        "        return out\n",
        "    def backward(self, dout):\n",
        "        out = dout * 1\n",
        "        return out\n",
        "\n",
        "class mult_function:\n",
        "    def __init__(self):\n",
        "        self.x = None\n",
        "        self.y = None\n",
        "    def forward(self, x, y):\n",
        "        self.x = x\n",
        "        self.y = y\n",
        "        out = x * y\n",
        "        return out\n",
        "    def backward(self, dout):\n",
        "        dx = dout * self.y\n",
        "        dy = dout * self.x\n",
        "        return dx, dy\n",
        "\n",
        "\n",
        "mult_apple = mult_function()\n",
        "mult_orange = mult_function()\n",
        "add_fruit = add_function()\n",
        "mult_tax = mult_function()\n",
        "\n",
        "apple_num = 2\n",
        "apple_price = 100\n",
        "orange_num = 3\n",
        "orange_price = 150\n",
        "tax = 1.1\n",
        "\n",
        "#forward\n",
        "out_mult_apple = mult_apple.forward(apple_num, apple_price)\n",
        "out_mult_orange = mult_orange.forward(orange_num, orange_price)\n",
        "\n",
        "out_add_fruit = add_fruit.forward(out_mult_apple, out_mult_orange)\n",
        "mult_tax.forward(out_add_fruit, tax)\n",
        "\n",
        "#Backward\n",
        "dprice = 1\n",
        "B_add_fruit, B_tax = mult_tax.backward(dprice)\n",
        "BB_add_fruit = add_fruit.backward(B_add_fruit)\n",
        "B_apple_num, B_apple_price = mult_apple.backward(BB_add_fruit)\n",
        "B_orange_num, B_orange_price = mult_orange.backward(BB_add_fruit)\n",
        "\n",
        "print(\"Apple Num BP :\", B_apple_num)\n",
        "print(\"Apple price BP :\", B_apple_price)\n",
        "print(\"Orange Num BP :\", B_orange_num)\n",
        "print(\"Orange price BP :\", B_orange_price)\n",
        "print(\"tax BP :\", B_tax)\n",
        "\n"
      ],
      "metadata": {
        "id": "JeiVDkyWgein",
        "outputId": "3e4de801-0e5d-4603-bfd4-e4db817a0da7",
        "colab": {
          "base_uri": "https://localhost:8080/"
        }
      },
      "execution_count": 1,
      "outputs": [
        {
          "output_type": "stream",
          "name": "stdout",
          "text": [
            "Apple Num BP : 110.00000000000001\n",
            "Apple price BP : 2.2\n",
            "Orange Num BP : 165.0\n",
            "Orange price BP : 3.3000000000000003\n",
            "tax BP : 650\n"
          ]
        }
      ]
    },
    {
      "cell_type": "code",
      "source": [],
      "metadata": {
        "id": "n1IaHuBYGgdJ"
      },
      "execution_count": null,
      "outputs": []
    }
  ]
}