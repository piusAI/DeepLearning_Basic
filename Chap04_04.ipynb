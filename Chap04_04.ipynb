{
  "nbformat": 4,
  "nbformat_minor": 0,
  "metadata": {
    "colab": {
      "provenance": [],
      "gpuType": "V28",
      "authorship_tag": "ABX9TyPIH+R60pyookdtypBJJHAX",
      "include_colab_link": true
    },
    "kernelspec": {
      "name": "python3",
      "display_name": "Python 3"
    },
    "language_info": {
      "name": "python"
    },
    "accelerator": "TPU"
  },
  "cells": [
    {
      "cell_type": "markdown",
      "metadata": {
        "id": "view-in-github",
        "colab_type": "text"
      },
      "source": [
        "<a href=\"https://colab.research.google.com/github/piusAI/DeepLearning_Basic/blob/main/Chap04_04.ipynb\" target=\"_parent\"><img src=\"https://colab.research.google.com/assets/colab-badge.svg\" alt=\"Open In Colab\"/></a>"
      ]
    },
    {
      "cell_type": "markdown",
      "source": [
        "#4.4 Gradient"
      ],
      "metadata": {
        "id": "0o6nfJKOxrJ4"
      }
    },
    {
      "cell_type": "code",
      "execution_count": null,
      "metadata": {
        "id": "2oXPVI-SxjDc"
      },
      "outputs": [],
      "source": [
        "import numpy as np\n",
        "import matplotlib.pyplot as plt\n",
        "from mpl_toolkits.mplot3d import Axes3D\n",
        "\n",
        "def _numerical_gradient_nobatch(f, x):\n",
        "  h = 1e-4\n",
        "  grad = np.zeros_likx(x)\n",
        "\n",
        "  for idx in range(x.size):\n",
        "    tmp_val = x[idx]\n",
        "\n",
        "    x[idx] = float(tmp_val) + h\n",
        "    fxh1= f(x)\n",
        "    x[idx] = tmp_val-h\n",
        "    fxh2 = f(x)\n",
        "\n",
        "    grad[idx] = (fxh1- fxh2) / (2*h)\n",
        "    x[idx] = tmp_val\n",
        "\n",
        "  return grad"
      ]
    },
    {
      "cell_type": "code",
      "source": [],
      "metadata": {
        "id": "OmAxOGgpx30b"
      },
      "execution_count": null,
      "outputs": []
    },
    {
      "cell_type": "markdown",
      "source": [
        "Gradient ; 각축으로의 편미분(방향 미분, 순간변화율)을 vector로 묶어 쓴 것"
      ],
      "metadata": {
        "id": "-p1fCufKyda1"
      }
    }
  ]
}