{
  "nbformat": 4,
  "nbformat_minor": 0,
  "metadata": {
    "colab": {
      "provenance": [],
      "gpuType": "T4",
      "authorship_tag": "ABX9TyOAeBmM5iZ+WA1SChCyMzGl",
      "include_colab_link": true
    },
    "kernelspec": {
      "name": "python3",
      "display_name": "Python 3"
    },
    "language_info": {
      "name": "python"
    },
    "accelerator": "GPU"
  },
  "cells": [
    {
      "cell_type": "markdown",
      "metadata": {
        "id": "view-in-github",
        "colab_type": "text"
      },
      "source": [
        "<a href=\"https://colab.research.google.com/github/piusAI/DeepLearning_Basic/blob/main/Chapter04_Last.ipynb\" target=\"_parent\"><img src=\"https://colab.research.google.com/assets/colab-badge.svg\" alt=\"Open In Colab\"/></a>"
      ]
    },
    {
      "cell_type": "markdown",
      "source": [
        "###Chapter 04"
      ],
      "metadata": {
        "id": "8Iq2c8PgZ-Az"
      }
    },
    {
      "cell_type": "markdown",
      "source": [
        "#### To do this!"
      ],
      "metadata": {
        "id": "7FHdi-wHaBn0"
      }
    },
    {
      "cell_type": "markdown",
      "source": [
        "- 01 Sigmoid, Softmax, CEE\n",
        "- 02 Gradient, Sigmoid_gradient(sigmoid differentiation)\n",
        "- 03 TwoNetwork\n",
        "\n",
        "\n",
        "Avartar **S**tochastic **D**escent **G**radient\n"
      ],
      "metadata": {
        "id": "Rev7h16tWE8a"
      }
    },
    {
      "cell_type": "markdown",
      "source": [
        "#### 01 sigmoid, Softmax, CEE, Gradient\n",
        "02 gradient"
      ],
      "metadata": {
        "id": "7ya0fb5caGrv"
      }
    },
    {
      "cell_type": "code",
      "execution_count": null,
      "metadata": {
        "id": "Y66V4JYcVpp5"
      },
      "outputs": [],
      "source": [
        "import numpy as np\n",
        "\n",
        "def sigmoid(x):\n",
        "  return 1 / 1+ np.exp(-x)\n",
        "\n",
        "def sigmoid_gradient(x):\n",
        "  return sigmoid(x) * (1 - sigmoid(x) )\n",
        "\n",
        "def softmax(x):\n",
        "  if x.ndim==2:\n",
        "    x= x-np.max(x,axis=1, keepdims=True)\n",
        "    return np.exp(x) / np.sum(np.exp(x),axis=1, keepdims=True)\n",
        "  x = x- np.max(x)\n",
        "  return np.exp(x) / np.sum(np.exp(x))\n",
        "\n",
        "def CEE(y,t):\n",
        "  if y.ndim==1:\n",
        "    y = y.reshape(y.shape[0], 1)\n",
        "    t = t.reshape(t.shape[0], 1)\n",
        "  batch_size = y\n",
        "  return -np.sum(y[np.arange(batch_size), t])/ batch_size\n",
        "\n",
        "def _numerical_gradient_no_batch(f,x):\n",
        "  h=1e-4\n",
        "  grad = np.zeros_like(x)\n",
        "\n",
        "  for idx in range(x.size):\n",
        "    tmp_val = x[idx]\n",
        "    x[idx] = float(tmp_val)+h\n",
        "    fxh1 = f(x)\n",
        "\n",
        "    x[idx] = tmp_val - h\n",
        "    fxh2 = f(x)\n",
        "\n",
        "    grad[idx] = (fxh1-fxh2) / ( 2* h)\n",
        "    x[idx] = tmp_val\n",
        "    return grad\n",
        "def numerical_gradient(f,X):\n",
        "  if X.ndim == 1:\n",
        "    return _numerical_gradient_no_batch(f,X)\n",
        "  else:\n",
        "    grad = np.zeros_like(X)\n",
        "    for i, idx in enumerate(X):\n",
        "      grad[i] = _numerical_gradient_no_batch(f,idx)\n",
        "    return grad"
      ]
    },
    {
      "cell_type": "markdown",
      "source": [
        "####03 Two Network"
      ],
      "metadata": {
        "id": "ws-5NykdaNpY"
      }
    },
    {
      "cell_type": "code",
      "source": [
        "class TwolayerNet:\n",
        "  def __init__(self, input_size, hidden_size, output_size, weight_init_std= 0.01):\n",
        "    self.params = {}\n",
        "    self.params['W1'] = weight_init_std * np.random.randn(input_size, hidden_size)\n",
        "    self.params['b1'] = np.zeros(hidden_size)\n",
        "    self.params['W2'] = weight_init_std * np.random.randn(hidden_size, output_size)\n",
        "    self.params['b2'] = np.zeros(output_size)\n",
        "  def predict(self, x):\n",
        "    W1, W2 = self.params['W1'], self.params['W2']\n",
        "    b1, b2 = self.params['b1'], self.params['b2']\n",
        "\n",
        "    a1 = np.dot(x, W1) + b1\n",
        "    y1 = sigmoid(a1)\n",
        "    a2 = np.dot(y1, W2) + b2\n",
        "    y2 = softmax(a2)\n",
        "    return y2\n",
        "  def accuracy(self, x, t):\n",
        "    y = self.predict(x)\n",
        "    y = np.argmax(y, axis=1)\n",
        "\n",
        "    if t.ndim != 1:\n",
        "      t = np.argmax(t, axis=1)\n",
        "\n",
        "    accuracy = np.sum(y == t) / float(x.shape[0])\n",
        "    return accuracy\n",
        "\n",
        "  def loss(self, x, t):\n",
        "    y = self.predict(x)\n",
        "    return CEE(y,t)\n",
        "\n",
        "  def numerical_gradient(self, x, t):\n",
        "    loss_w = lambda w : self.loss(x,t)\n",
        "\n",
        "    grads = {}\n",
        "    grads['W1'] = numerical_gradient(loss_w, self.params['W1'])\n",
        "    grads['b1'] = numerical_gradient(loss_w, self.params['b1'])\n",
        "    grads['W2'] = numerical_gradient(loss_w, self.params['W2'])\n",
        "    grads['b2'] = numerical_gradient(loss_w, self.params['b2'])\n",
        "\n",
        "    return grads\n",
        "\n",
        "#역전파는 그냥 Pass\n",
        "  def gradient(self, x, t):\n",
        "    W1, W2 = self.params['W1'], self.params['W2']\n",
        "    b1, b2 = self.params['b1'], self.params['b2']\n",
        "\n",
        "    grads={}\n",
        "\n",
        "    batch_num = x.shape[0]\n",
        "    a1= np.dot(x,W1) + b1\n",
        "    z1 = sigmoid(a1)\n",
        "    a2 = np.dot(z1, W2) + b2\n",
        "    y = softmax(a2)\n",
        "\n",
        "    if t.ndim ==1:\n",
        "      t_one_hot = np.zeros_like(y)\n",
        "      t_one_hot[np.arange(batch_size), t] = 1\n",
        "      t = t_one_hot\n",
        "    dy = (y-t) /batch_num\n",
        "    grads ['W2'] = np.dot(z1.T, dy)\n",
        "    grads['b2'] = np.sum(dy, axis=0)\n",
        "\n",
        "    dz1 = np.dot(dy, W2.T)\n",
        "    da1 = sigmoid_gradient(a1) * dz1\n",
        "    grads['W1'] = np.dot(x.T, da1)\n",
        "    grads['b1'] = np.sum(da1, axis=0)\n",
        "\n",
        "    return grads"
      ],
      "metadata": {
        "id": "iiMQdaLjacPq"
      },
      "execution_count": null,
      "outputs": []
    },
    {
      "cell_type": "code",
      "source": [],
      "metadata": {
        "id": "N8LTr8DgZBrY"
      },
      "execution_count": null,
      "outputs": []
    }
  ]
}
