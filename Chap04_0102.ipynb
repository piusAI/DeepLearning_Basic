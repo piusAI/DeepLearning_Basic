{
  "nbformat": 4,
  "nbformat_minor": 0,
  "metadata": {
    "colab": {
      "provenance": [],
      "authorship_tag": "ABX9TyN4w2J7JLax6POu9o8VOQ++",
      "include_colab_link": true
    },
    "kernelspec": {
      "name": "python3",
      "display_name": "Python 3"
    },
    "language_info": {
      "name": "python"
    }
  },
  "cells": [
    {
      "cell_type": "markdown",
      "metadata": {
        "id": "view-in-github",
        "colab_type": "text"
      },
      "source": [
        "<a href=\"https://colab.research.google.com/github/piusAI/DeepLearning_Basic/blob/main/Chap04_0102.ipynb\" target=\"_parent\"><img src=\"https://colab.research.google.com/assets/colab-badge.svg\" alt=\"Open In Colab\"/></a>"
      ]
    },
    {
      "cell_type": "markdown",
      "source": [
        "#C04-1 Train Neural Network\n",
        "Traingin(학습) : Get parameter from Train Data\n",
        "\n",
        "Get Parameter : Can Find using Back propagation\n",
        "\n",
        "\n",
        "##Hyper Parameter vs Parameter\n",
        "- Parameter: Weight, Bias\n",
        "- HyperParameter : Learning Rate, Batch Size, Hidden Size\n",
        "\n",
        "In Traditional ML, Human Build Feature From Images!! (or CNN)\n",
        "\n",
        "### How can play Swing more Heigh? [PipeLine DL]\n",
        "- 01 Collect Data\n",
        "- 02 Declare Input - Ankle degree\n",
        "- 03 Declare Output - Swing Height\n",
        "- 04 Build Model\n",
        "- 05 Train\n",
        "- 06 Predict"
      ],
      "metadata": {
        "id": "V7e2WeJ6Rf2a"
      }
    },
    {
      "cell_type": "code",
      "source": [],
      "metadata": {
        "id": "aFMVSuceRe63"
      },
      "execution_count": null,
      "outputs": []
    },
    {
      "cell_type": "markdown",
      "source": [
        "## In houdini\n",
        "\n",
        "### End to End, 종단간 머신러닝\n",
        "Just All Simulation In one simulation cache\n",
        "\n",
        "\n",
        "--\n",
        "\n",
        "\n",
        "\n",
        "### Feature- Guided Leanring\n",
        "\n",
        "Low Mesh : Desturction Simulation RBD cache\n",
        "\n",
        "High mesh : (transform Piece)\n",
        "\n"
      ],
      "metadata": {
        "id": "ov0j9yZdTw0b"
      }
    },
    {
      "cell_type": "markdown",
      "source": [
        "#C04-2 LossFunction\n",
        "\n"
      ],
      "metadata": {
        "id": "citAi8oJpLWc"
      }
    }
  ]
}